{
 "cells": [
  {
   "cell_type": "markdown",
   "id": "28277b74-a690-4706-bdc1-7e25e41f79c6",
   "metadata": {},
   "source": [
    "<h1 style='color:orange'><u><i><b>UNIVARIANT LINEAR REGRESSION MODEL ( HOUSE PRICE PREDICTION )</b></i></u></h1>\n",
    "<p>This Model Is completely based on how to predict a house price using univariant linear regression algorithms. In this notebook this is implemented manualy or without using Scikit-Learn etc but pandas & numpy is used. The dataset includes the house price in Lacs and Crores while the size of the house is available in square feet, Marlas, & Kanals. I will just pick only two columns from the data like size in square feet while the price will be in Lacs. Dataset includes 180 records or rows which is collected using web scrapping techniques in python like beautifulSoup, requests, and Selenium. But the data is collected from the website is just for testing purpose not others. Main Location of the residential plots is Multan    <b>--<i>ZOHAIB KHAN</i></b></p>"
   ]
  },
  {
   "cell_type": "code",
   "execution_count": 1,
   "id": "e86d543e-33f4-47c2-8f45-411da4ae63a9",
   "metadata": {},
   "outputs": [],
   "source": [
    "import pandas as pd"
   ]
  },
  {
   "cell_type": "code",
   "execution_count": 2,
   "id": "a52b83fa-e137-41db-b7fa-661b324f1c83",
   "metadata": {},
   "outputs": [
    {
     "data": {
      "text/html": [
       "<div>\n",
       "<style scoped>\n",
       "    .dataframe tbody tr th:only-of-type {\n",
       "        vertical-align: middle;\n",
       "    }\n",
       "\n",
       "    .dataframe tbody tr th {\n",
       "        vertical-align: top;\n",
       "    }\n",
       "\n",
       "    .dataframe thead th {\n",
       "        text-align: right;\n",
       "    }\n",
       "</style>\n",
       "<table border=\"1\" class=\"dataframe\">\n",
       "  <thead>\n",
       "    <tr style=\"text-align: right;\">\n",
       "      <th></th>\n",
       "      <th>Area (Marlas)</th>\n",
       "      <th>Area (Kanals)</th>\n",
       "      <th>Area (Sq-feet)</th>\n",
       "      <th>Price (Lacs)</th>\n",
       "      <th>Price (Crores)</th>\n",
       "      <th>Location</th>\n",
       "    </tr>\n",
       "  </thead>\n",
       "  <tbody>\n",
       "    <tr>\n",
       "      <th>0</th>\n",
       "      <td>20.0</td>\n",
       "      <td>1.00</td>\n",
       "      <td>5445.00</td>\n",
       "      <td>40.0</td>\n",
       "      <td>0.400</td>\n",
       "      <td>Old Shujabad Road, Multan</td>\n",
       "    </tr>\n",
       "    <tr>\n",
       "      <th>1</th>\n",
       "      <td>20.0</td>\n",
       "      <td>1.00</td>\n",
       "      <td>5445.00</td>\n",
       "      <td>120.0</td>\n",
       "      <td>1.200</td>\n",
       "      <td>DHA Sector Q, Multan</td>\n",
       "    </tr>\n",
       "    <tr>\n",
       "      <th>2</th>\n",
       "      <td>20.0</td>\n",
       "      <td>1.00</td>\n",
       "      <td>5445.00</td>\n",
       "      <td>115.0</td>\n",
       "      <td>1.150</td>\n",
       "      <td>DHA Sector Q, Multan</td>\n",
       "    </tr>\n",
       "    <tr>\n",
       "      <th>3</th>\n",
       "      <td>20.0</td>\n",
       "      <td>1.00</td>\n",
       "      <td>5445.00</td>\n",
       "      <td>110.0</td>\n",
       "      <td>1.100</td>\n",
       "      <td>DHA Sector Q, Multan</td>\n",
       "    </tr>\n",
       "    <tr>\n",
       "      <th>4</th>\n",
       "      <td>20.0</td>\n",
       "      <td>1.00</td>\n",
       "      <td>5445.00</td>\n",
       "      <td>105.0</td>\n",
       "      <td>1.050</td>\n",
       "      <td>DHA Sector Q, Multan</td>\n",
       "    </tr>\n",
       "    <tr>\n",
       "      <th>...</th>\n",
       "      <td>...</td>\n",
       "      <td>...</td>\n",
       "      <td>...</td>\n",
       "      <td>...</td>\n",
       "      <td>...</td>\n",
       "      <td>...</td>\n",
       "    </tr>\n",
       "    <tr>\n",
       "      <th>175</th>\n",
       "      <td>7.0</td>\n",
       "      <td>0.35</td>\n",
       "      <td>1905.75</td>\n",
       "      <td>28.0</td>\n",
       "      <td>0.280</td>\n",
       "      <td>Bahawalpur Road, Multan</td>\n",
       "    </tr>\n",
       "    <tr>\n",
       "      <th>176</th>\n",
       "      <td>5.0</td>\n",
       "      <td>0.25</td>\n",
       "      <td>1361.25</td>\n",
       "      <td>17.5</td>\n",
       "      <td>0.175</td>\n",
       "      <td>Bahawalpur Road, Multan</td>\n",
       "    </tr>\n",
       "    <tr>\n",
       "      <th>177</th>\n",
       "      <td>3.0</td>\n",
       "      <td>0.15</td>\n",
       "      <td>816.75</td>\n",
       "      <td>12.0</td>\n",
       "      <td>0.120</td>\n",
       "      <td>Bahawalpur Road, Multan</td>\n",
       "    </tr>\n",
       "    <tr>\n",
       "      <th>178</th>\n",
       "      <td>20.0</td>\n",
       "      <td>1.00</td>\n",
       "      <td>5445.00</td>\n",
       "      <td>95.0</td>\n",
       "      <td>0.950</td>\n",
       "      <td>DHA Sector X, Multan</td>\n",
       "    </tr>\n",
       "    <tr>\n",
       "      <th>179</th>\n",
       "      <td>20.0</td>\n",
       "      <td>1.00</td>\n",
       "      <td>5445.00</td>\n",
       "      <td>112.0</td>\n",
       "      <td>1.120</td>\n",
       "      <td>DHA Sector K, Multan</td>\n",
       "    </tr>\n",
       "  </tbody>\n",
       "</table>\n",
       "<p>180 rows × 6 columns</p>\n",
       "</div>"
      ],
      "text/plain": [
       "     Area (Marlas)  Area (Kanals)  Area (Sq-feet)  Price (Lacs)  \\\n",
       "0             20.0           1.00         5445.00          40.0   \n",
       "1             20.0           1.00         5445.00         120.0   \n",
       "2             20.0           1.00         5445.00         115.0   \n",
       "3             20.0           1.00         5445.00         110.0   \n",
       "4             20.0           1.00         5445.00         105.0   \n",
       "..             ...            ...             ...           ...   \n",
       "175            7.0           0.35         1905.75          28.0   \n",
       "176            5.0           0.25         1361.25          17.5   \n",
       "177            3.0           0.15          816.75          12.0   \n",
       "178           20.0           1.00         5445.00          95.0   \n",
       "179           20.0           1.00         5445.00         112.0   \n",
       "\n",
       "     Price (Crores)                   Location  \n",
       "0             0.400  Old Shujabad Road, Multan  \n",
       "1             1.200       DHA Sector Q, Multan  \n",
       "2             1.150       DHA Sector Q, Multan  \n",
       "3             1.100       DHA Sector Q, Multan  \n",
       "4             1.050       DHA Sector Q, Multan  \n",
       "..              ...                        ...  \n",
       "175           0.280    Bahawalpur Road, Multan  \n",
       "176           0.175    Bahawalpur Road, Multan  \n",
       "177           0.120    Bahawalpur Road, Multan  \n",
       "178           0.950       DHA Sector X, Multan  \n",
       "179           1.120       DHA Sector K, Multan  \n",
       "\n",
       "[180 rows x 6 columns]"
      ]
     },
     "execution_count": 2,
     "metadata": {},
     "output_type": "execute_result"
    }
   ],
   "source": [
    "dataset = pd.read_csv(\"Data-Files/ResidentialPlotsDataSetUpdated.csv\")\n",
    "dataset"
   ]
  },
  {
   "cell_type": "markdown",
   "id": "63987401-d10e-4db5-9d52-a1d6eb74653b",
   "metadata": {},
   "source": [
    "<p style='font-style:italic; font-weight:bold; font-family:sans-serif;'>Pick up area in Marlas and price in lacs in order to implement Univariant linear regression.</p>"
   ]
  },
  {
   "cell_type": "code",
   "execution_count": 3,
   "id": "3df666ef-ff41-455e-a35f-bd1ed7b2e19e",
   "metadata": {},
   "outputs": [
    {
     "name": "stdout",
     "output_type": "stream",
     "text": [
      "[20.0, 20.0, 20.0, 20.0, 20.0, 20.0, 20.0, 20.0, 20.0, 20.0, 2.5, 20.0, 20.0, 20.0, 20.0, 20.0, 20.0, 20.0, 20.0, 20.0, 20.0, 20.0, 20.0, 20.0, 20.0, 3.0, 20.0, 20.0, 20.0, 20.0, 20.0, 4.25, 20.0, 20.0, 20.0, 20.0, 20.0, 20.0, 20.0, 20.0, 20.0, 20.0, 20.0, 20.0, 5.0, 20.0, 20.0, 20.0, 20.0, 20.0, 20.0, 20.0, 20.0, 20.0, 20.0, 20.0, 20.0, 10.0, 5.0, 10.0, 10.0, 10.0, 10.0, 5.0, 5.0, 5.0, 5.0, 5.0, 5.0, 20.0, 20.0, 2400.0, 20.0, 20.0, 20.0, 20.0, 20.0, 20.0, 20.0, 20.0, 20.0, 20.0, 20.0, 20.0, 20.0, 20.0, 20.0, 20.0, 20.0, 20.0, 20.0, 20.0, 20.0, 20.0, 20.0, 20.0, 20.0, 10.0, 10.0, 10.0, 10.0, 10.0, 10.0, 8.0, 8.0, 8.0, 8.0, 8.0, 8.0, 20.0, 8.0, 7.0, 20.0, 30.0, 20.0, 9.0, 10.0, 10.0, 5.0, 20.0, 20.0, 20.0, 20.0, 5.0, 12.0, 10.0, 10.0, 10.0, 20.0, 20.0, 2.22, 5.12, 9.0, 5.22, 5.0, 10.0, 12.0, 20.0, 5.16, 2.22, 2.19, 9.85, 20.0, 20.0, 20.0, 20.0, 20.0, 20.0, 20.0, 40.0, 20.0, 20.0, 20.0, 20.0, 20.0, 20.0, 20.0, 20.0, 20.0, 20.0, 20.0, 2.203856749311295, 20.0, 20.0, 20.0, 9.85, 20.0, 20.0, 20.0, 20.0, 20.0, 20.0, 20.0, 20.0, 10.0, 7.0, 5.0, 3.0, 20.0, 20.0]\n"
     ]
    }
   ],
   "source": [
    "x_area = dataset[\"Area (Marlas)\"].tolist()\n",
    "print(x_area)"
   ]
  },
  {
   "cell_type": "code",
   "execution_count": 4,
   "id": "6b7359a3-ef1c-4a6c-a00a-b653f2708df9",
   "metadata": {},
   "outputs": [
    {
     "name": "stdout",
     "output_type": "stream",
     "text": [
      "[40.0, 120.0, 115.0, 110.0, 105.0, 100.0, 95.0, 90.0, 85.0, 80.0, 38.0, 140.0, 135.0, 130.0, 125.0, 120.0, 115.0, 110.0, 105.0, 100.0, 95.0, 100.0, 120.0, 105.0, 125.0, 18.0, 95.0, 90.0, 85.0, 80.0, 75.0, 18.0, 140.0, 135.0, 130.0, 125.0, 120.0, 115.0, 110.0, 105.0, 100.0, 95.0, 90.0, 85.0, 17.0, 150.0, 145.0, 140.0, 135.0, 130.0, 125.0, 120.0, 115.0, 110.0, 105.0, 100.0, 95.0, 50.0, 31.0, 55.0, 50.0, 45.0, 40.0, 45.0, 42.0, 40.0, 35.0, 30.0, 26.0, 95.0, 105.0, 1650.0, 70.0, 65.0, 60.0, 100.0, 95.0, 90.0, 85.0, 80.0, 75.0, 125.0, 120.0, 115.0, 110.0, 105.0, 100.0, 95.0, 90.0, 85.0, 80.0, 100.0, 95.0, 90.0, 85.0, 80.0, 75.0, 50.0, 60.0, 55.0, 50.0, 45.0, 40.0, 45.0, 42.0, 40.0, 38.0, 35.0, 33.0, 55.0, 33.0, 21.0, 250.0, 360.0, 190.0, 126.0, 120.0, 110.0, 67.5, 88.0, 100.0, 85.0, 75.0, 72.5, 63.0, 45.0, 47.0, 50.0, 112.0, 103.0, 200.0, 69.12, 108.0, 75.69, 62.5, 52.0, 144.0, 45.0, 74.82, 200.0, 117.0, 133.0, 62.0, 60.0, 65.0, 62.0, 59.0, 57.0, 55.0, 720.0, 95.0, 93.0, 90.0, 88.0, 86.0, 84.0, 80.0, 78.0, 76.0, 74.0, 72.0, 90.0, 78.0, 76.0, 72.0, 133.0, 75.0, 600.0, 95.0, 110.0, 65.0, 55.0, 65.0, 95.0, 40.0, 28.0, 17.5, 12.0, 95.0, 112.0]\n"
     ]
    }
   ],
   "source": [
    "y_price = dataset[\"Price (Lacs)\"].tolist()\n",
    "print(y_price)"
   ]
  },
  {
   "cell_type": "code",
   "execution_count": 5,
   "id": "e2cac306-31ca-4629-94a5-ea40f2707194",
   "metadata": {},
   "outputs": [],
   "source": [
    "import matplotlib.pyplot as plt"
   ]
  },
  {
   "cell_type": "code",
   "execution_count": 6,
   "id": "e4766f7c-3d4a-4280-9017-1cf451b3ad43",
   "metadata": {},
   "outputs": [
    {
     "data": {
      "image/png": "[encoded data removed]",
      "text/plain": [
       "<Figure size 640x480 with 1 Axes>"
      ]
     },
     "metadata": {},
     "output_type": "display_data"
    }
   ],
   "source": [
    "plt.scatter(x_area,y_price,marker='x',color='r')\n",
    "plt.title(\"House Sizes With Prices\")\n",
    "plt.xlabel(\"House Size in Marlas (x)\")\n",
    "plt.ylabel(\"House Price in Lacs (y)\")\n",
    "plt.show()"
   ]
  },
  {
   "cell_type": "code",
   "execution_count": 7,
   "id": "0290bb13-855b-4fe3-90f5-afa8d9bd360c",
   "metadata": {},
   "outputs": [
    {
     "data": {
      "text/plain": [
       "[1.0, 2.0]"
      ]
     },
     "execution_count": 7,
     "metadata": {},
     "output_type": "execute_result"
    }
   ],
   "source": [
    "weights = [1.0,2.0]\n",
    "weights"
   ]
  },
  {
   "cell_type": "code",
   "execution_count": 8,
   "id": "718fb5e1-13a7-4974-be7b-1c9660fbc0db",
   "metadata": {},
   "outputs": [],
   "source": [
    "def calculate_total_cost(x,y,w,b):\n",
    "    m = len(y)\n",
    "    total_cost = 0\n",
    "    for i in range(m):\n",
    "        y_predicted = w*x[i] + b\n",
    "        cost = (y_predicted - y[i])**2\n",
    "        total_cost += cost\n",
    "    total_cost /= (2*m)\n",
    "    return total_cost"
   ]
  },
  {
   "cell_type": "code",
   "execution_count": 9,
   "id": "94761f78-874e-4fda-8cfc-9393e54859f4",
   "metadata": {},
   "outputs": [
    {
     "data": {
      "text/plain": [
       "6934.318514157479"
      ]
     },
     "execution_count": 9,
     "metadata": {},
     "output_type": "execute_result"
    }
   ],
   "source": [
    "calculate_total_cost(x_area,y_price,weights[0],weights[1])"
   ]
  },
  {
   "cell_type": "code",
   "execution_count": 10,
   "id": "7493da4c-b526-45bd-85bf-dac4e9667bdf",
   "metadata": {},
   "outputs": [],
   "source": [
    "def gradient_descent(x,y,w,b,alpha):\n",
    "    m = len(y)\n",
    "    dw = 0\n",
    "    db = 0\n",
    "    for i in range(m):\n",
    "        y_predicted = w*x[i] + b\n",
    "        dw += (y_predicted - y[i]) * x[i]\n",
    "        db += (y_predicted - y[i])\n",
    "    dw /= m\n",
    "    db /= m\n",
    "    w -= alpha*dw\n",
    "    b -= alpha*db\n",
    "    return w,b"
   ]
  },
  {
   "cell_type": "code",
   "execution_count": 11,
   "id": "64151806-7d03-4340-8003-316984ee97f4",
   "metadata": {},
   "outputs": [
    {
     "name": "stdout",
     "output_type": "stream",
     "text": [
      "[0.1365559561163152, 2.007115470079584]\n",
      "[2.062174463925277, 2.0167720082571248]\n",
      "[-2.232338357439335, 2.020759005078939]\n",
      "[7.345205490947352, 2.0373876560957656]\n",
      "[-14.014532531349255, 2.0258205693968567]\n",
      "[33.621656469530556, 2.0771327699715845]\n",
      "[-72.61598111396063, 1.9882099119512986]\n",
      "[164.31380479796772, 2.2120349901093643]\n",
      "[-364.0839712376778, 1.7383711719967272]\n",
      "[814.341910733202, 2.820235612265857]\n",
      "[-1813.7683159807702, 0.4329785106671462]\n",
      "[4047.409192897878, 5.782509047595121]\n",
      "[-9024.113317337347, -6.1224469049685615]\n",
      "[20127.827574542054, 20.453327893824017]\n",
      "[-44886.455044736176, -38.7901292130861]\n",
      "[100107.55952151451, 93.3593553596973]\n",
      "[-223256.22175756807, -201.33323263204636]\n",
      "[497905.51271147747, 455.9118620233527]\n",
      "[-1110420.0864928619, -1009.8421882251076]\n",
      "[2476446.921788371, 2259.0890710762396]\n",
      "[-5522937.619241009, -5031.2137848524335]\n",
      "[12317186.613760332, 11227.551095024846]\n",
      "[-27469628.361453727, -25032.51117282461]\n",
      "[61262413.2541703, 55834.23751118379]\n",
      "[-136626641.55418006, -124513.71697371885]\n",
      "[304702976.2469294, 277695.9905845301]\n",
      "[-679544645.4172287, -619306.8863334574]\n",
      "[1515511706.2915177, 1381177.386323999]\n",
      "[-3379874659.011851, -3080276.812273234]\n",
      "[7537752875.671925, 6869600.8262272645]\n",
      "[-16810599244.375633, -15320487.931249557]\n",
      "[37490781626.00552, 34167561.849124774]\n",
      "[-83611457650.48293, -76200048.48390777]\n",
      "[186469194493.28857, 169940372.6632313]\n",
      "[-415861192609.3611, -378998820.0093762]\n",
      "[927448268277.5217, 845238287.6867721]\n",
      "[-2068383166341.2458, -1885039520.5311997]\n",
      "[4612881461039.895, 4203990834.1983385]\n",
      "[-10287588740740.592, -9375686130.906147]\n",
      "[22943247727590.54, 20909534295.66844]\n",
      "[-51167735176359.26, -46632173702.393684]\n",
      "[114113623065219.53, 103998472369.94028]\n",
      "[-254494730403602.16, -231936051773.4871]\n",
      "[567570865453872.6, 517260791326.3539]\n",
      "[-1265789224009389.5, -1153588345546.2256]\n",
      "[2822946802135527.0, 2572717850081.77]\n",
      "[-6295699549760195.0, -5737642168157.547]\n",
      "[1.404058793841484e+16, 12796015563399.902]\n",
      "[-3.1313138134723736e+16, -28537508875568.44]\n",
      "[6.9834156813449304e+16, 63643984237783.375]\n",
      "[-1.5574323585400963e+17, -141937992812198.7]\n",
      "[3.4733655593599654e+17, 316548280954373.9]\n",
      "[-7.746255073483073e+17, -705961893569590.6]\n",
      "[1.7275598159186816e+18, 1574427110043903.5]\n",
      "[-3.8527816206225884e+18, -3511267034977499.5]\n",
      "[8.592423879872078e+18, 7830782455579016.0]\n",
      "[-1.916271291791151e+19, -1.7464110036562984e+16]\n",
      "[4.273643520246793e+19, 3.8948232963857784e+16]\n",
      "[-9.531024660436251e+19, -8.6861846829355e+16]\n",
      "[2.1255968273319517e+20, 1.9371817051643517e+17]\n",
      "[-4.740478629877816e+20, -4.320277654463992e+17]\n",
      "[1.0572154301027729e+21, 9.635027505113472e+17]\n",
      "[-2.357788217001609e+21, -2.1487914076164111e+18]\n",
      "[5.258308872479489e+21, 4.792206883680963e+18]\n",
      "[-1.1727012629471262e+22, -1.0687517985505139e+19]\n",
      "[2.6153432319568678e+22, 2.3835164771258647e+19]\n",
      "[-5.8327047450711135e+22, -5.315687706383847e+19]\n",
      "[1.300802289637535e+23, 1.1854978164813428e+20]\n",
      "[-2.9010324895257703e+23, -2.643881940608034e+20]\n",
      "[6.469845242684131e+23, 5.8963514050329025e+20]\n",
      "[-1.4428965416766204e+24, -1.31499668565527e+21]\n",
      "[3.217929257792599e+24, 2.932688648455238e+21]\n",
      "[-7.176584328163429e+24, -6.540444400049971e+21]\n",
      "[1.6005125810183702e+25, 1.45864147469859e+22]\n",
      "[-3.569442515912859e+25, -3.253043404351264e+22]\n",
      "[7.960524662855007e+25, 7.2548954449412144e+22]\n",
      "[-1.775345943390722e+26, -1.6179774252820376e+23]\n",
      "[3.9593536257991836e+26, 3.608392386340571e+23]\n",
      "[-8.830099391326901e+26, -8.047390161535029e+23]\n",
      "[1.969277377818808e+27, 1.7947185748733776e+24]\n",
      "[-4.391857009670787e+27, -4.0025582186773966e+24]\n",
      "[9.794662859916018e+27, 8.926453717141631e+24]\n",
      "[-2.184393078558097e+28, -1.990766195291069e+25]\n",
      "[4.871605271050079e+28, 4.439781093249909e+25]\n",
      "[-1.0864591244991817e+29, -9.90154253302333e+25]\n",
      "[2.423007127080091e+29, 2.2082292454086826e+26]\n",
      "[-5.403759244589314e+29, -4.924764382938391e+26]\n",
      "[1.20513941734352e+30, 1.098314601071638e+27]\n",
      "[-2.687686385527425e+30, -2.449447058028524e+27]\n",
      "[5.994043513133522e+30, 5.462725237587068e+27]\n",
      "[-1.336783853607517e+31, -1.218289937051713e+28]\n",
      "[2.9812781094269573e+31, 2.717014504974585e+28]\n",
      "[-6.6488079892368465e+31, -6.059450706871254e+28]\n",
      "[1.482808582599391e+32, 1.3513708815973889e+29]\n",
      "[-3.306940576701446e+32, -3.013809911116874e+29]\n",
      "[7.375096223589203e+32, 6.721359993793639e+29]\n",
      "[-1.6447844479096738e+33, -1.4989890370831938e+30]\n",
      "[3.668177062466769e+33, 3.343026017607232e+30]\n",
      "[-8.180721175171468e+33, -7.455573508492902e+30]\n",
      "[1.8244538855737203e+34, 1.6627323881950002e+31]\n",
      "[-4.068873525096373e+34, -3.708204327411356e+31]\n",
      "[9.07434925822964e+34, 8.269989465207693e+31]\n",
      "[-2.023749668119327e+35, -1.84436238448567e+32]\n",
      "[4.5133404089541245e+35, 4.113273202604124e+32]\n",
      "[-1.0065593570191125e+36, -9.173368846371952e+32]\n",
      "[2.2448156961365018e+36, 2.0458328889583917e+33]\n",
      "[-5.0063590134854355e+36, -4.5625901232558276e+33]\n",
      "[1.1165117303413015e+37, 1.0175429647838791e+34]\n",
      "[-2.4900300610320114e+37, -2.269311196514672e+34]\n",
      "[5.553232927474713e+37, 5.060988562503276e+34]\n",
      "[-1.2384748453200817e+38, -1.1286951419059532e+35]\n",
      "[2.762030627064104e+38, 2.517201348370542e+35]\n",
      "[-6.159845081769428e+38, -5.61382998206121e+35]\n",
      "[1.373760705605619e+39, 1.2519891222801691e+36]\n",
      "[-3.0637434078519784e+39, -2.79216999324295e+36]\n",
      "[6.83272103420544e+39, 6.227061507505331e+36]\n",
      "[-1.523824632690286e+40, -1.3887512261822723e+37]\n",
      "[3.3984140426182743e+40, 3.097175073504931e+37]\n",
      "[-7.579099167517141e+40, -6.907279903766806e+37]\n",
      "[1.6902809213559862e+41, 1.5404526556191302e+38]\n",
      "[-3.769642710765558e+41, -3.435497644897791e+38]\n",
      "[8.407008555375503e+41, 7.66180253904293e+38]\n",
      "[-1.874920205257422e+42, -1.7087253206087223e+39]\n",
      "[4.181422860376224e+42, 3.810777172096198e+39]\n",
      "[-9.325355334189317e+42, -8.498746100512163e+39]\n",
      "[2.0797287194500582e+43, 1.8953793942571954e+40]\n",
      "[-4.638184167253934e+43, -4.2270506798154974e+40]\n",
      "[1.0344018509805324e+44, 9.427113908627688e+40]\n",
      "[-2.306909667076522e+44, -2.102422785480344e+41]\n",
      "[5.144840186631961e+44, 4.688796180622616e+41]\n",
      "[-1.147395622973268e+45, -1.0456892769262429e+42]\n",
      "[2.558906920061318e+45, 2.332082738843437e+42]\n",
      "[-5.706841210157052e+45, -5.200980846622106e+42]\n",
      "[1.2727323664108462e+46, 1.1599160405580247e+43]\n",
      "[-2.838431308771542e+46, -2.586829793879461e+43]\n",
      "[6.330232896751679e+46, 5.769114443216851e+43]\n",
      "[-1.4117603763488524e+47, -1.2866204625322534e+44]\n",
      "[3.1484897834507457e+47, 2.869404361622686e+44]\n",
      "[-7.021721308067268e+47, -6.3993085997517645e+44]\n",
      "[1.565975230007835e+48, 1.4271655505430185e+45]\n",
      "[-3.492417761127382e+48, -3.182846204253611e+45]\n",
      "[7.788745048142937e+48, 7.098342554637e+45]\n",
      "[-1.7370358752667786e+49, -1.5830632015971677e+46]\n",
      "[3.873915005965199e+49, 3.5305271349774285e+46]\n",
      "[-8.639555283299767e+49, -7.873736082195674e+46]\n",
      "[1.926782476596864e+50, 1.7559904660658124e+47]\n",
      "[-4.297085429034706e+50, -3.9161872899023954e+47]\n",
      "[9.583304503078e+50, 8.733830385738666e+47]\n",
      "[-2.1372562104110974e+51, -1.9478075883534764e+48]\n",
      "[4.766481235646497e+51, 4.34397536210734e+48]\n",
      "[-1.0630144977049759e+52, -9.687877827063422e+48]\n",
      "[2.3707212227757937e+52, 2.1605780182550496e+49]\n",
      "[-5.287151895156408e+52, -4.818493230711979e+49]\n",
      "[1.1791337966648534e+53, 1.0746141457631236e+50]\n",
      "[-2.629688985691872e+53, -2.396590608271037e+50]\n",
      "[5.864698460029555e+53, 5.344845465042898e+50]\n",
      "[-1.3079374866843307e+54, -1.192000542211865e+51]\n",
      "[2.9169453139548316e+54, 2.658384235664699e+51]\n",
      "[-6.505333818493531e+54, -5.928694236428005e+51]\n",
      "[1.4508111580829956e+55, 1.322209742199497e+52]\n",
      "[-3.235580333225024e+55, -2.9487751141313745e+52]\n",
      "[7.215949528941803e+55, 6.576320228329055e+52]\n",
      "[-1.6092917573254993e+56, -1.466642455651303e+53]\n",
      "[3.5890217216854907e+56, 3.27088708888099e+53]\n",
      "[-8.00418995505045e+56, -7.294690200044392e+53]\n",
      "[1.7850841205397405e+57, 1.626852400240689e+54]\n",
      "[-3.981071582880856e+57, -3.6281852410301976e+54]\n",
      "[8.878534499107735e+57, 8.091531930789724e+54]\n",
      "[-1.9800793130879343e+58, -1.8045630153216628e+55]\n",
      "[4.4159473463923805e+58, 4.024513162798536e+55]\n",
      "[-9.848388818172483e+58, -8.975417350361544e+55]\n",
      "[2.1963749724765536e+59, 2.0016860016219463e+56]\n",
      "[-4.898327136333093e+59, -4.4641343044932066e+56]\n",
      "[1.092418600430631e+60, 9.955854750647786e+56]\n",
      "[-2.4362978734413248e+60, -2.2203418861352475e+57]\n",
      "[5.433400095709595e+60, 4.9517778380664616e+57]\n",
      "[-1.2117498817316916e+61, -1.1043391069942994e+58]\n",
      "[2.7024289579488575e+61, 2.462882833437382e+58]\n",
      "[-6.026922208008584e+61, -5.492689530618917e+58]\n",
      "[1.3441164177339564e+62, 1.2249725350378407e+59]\n"
     ]
    }
   ],
   "source": [
    "for i in range(180):\n",
    "    weights[0] , weights[1] = gradient_descent(x_area,y_price,weights[0],weights[1],0.0001)"
   ]
  },
  {
   "cell_type": "code",
   "execution_count": 12,
   "id": "b2c95d4d-376c-4fd9-a42b-b1256ef80874",
   "metadata": {},
   "outputs": [],
   "source": [
    "def predict_house_price(x):\n",
    "    return weights[0]*x + weights[1]"
   ]
  },
  {
   "cell_type": "code",
   "execution_count": 13,
   "id": "20c2a68a-aebd-4c13-82f9-2214c5e4f738",
   "metadata": {},
   "outputs": [
    {
     "data": {
      "text/plain": [
       "6.721807061204819e+62"
      ]
     },
     "execution_count": 13,
     "metadata": {},
     "output_type": "execute_result"
    }
   ],
   "source": [
    "predict_house_price(5)"
   ]
  },
  {
   "cell_type": "code",
   "execution_count": 1,
   "id": "c693b4d9-f64c-4b9d-87d9-0a250600f280",
   "metadata": {},
   "outputs": [
    {
     "ename": "NameError",
     "evalue": "name 'predict_house_price' is not defined",
     "output_type": "error",
     "traceback": [
      "\u001b[31m---------------------------------------------------------------------------\u001b[39m",
      "\u001b[31mNameError\u001b[39m                                 Traceback (most recent call last)",
      "\u001b[36mCell\u001b[39m\u001b[36m \u001b[39m\u001b[32mIn[1]\u001b[39m\u001b[32m, line 4\u001b[39m\n\u001b[32m      2\u001b[39m marlas = \u001b[38;5;28mlist\u001b[39m(\u001b[38;5;28mrange\u001b[39m(\u001b[32m1\u001b[39m,\u001b[32m301\u001b[39m))\n\u001b[32m      3\u001b[39m \u001b[38;5;28;01mfor\u001b[39;00m i \u001b[38;5;129;01min\u001b[39;00m \u001b[38;5;28mrange\u001b[39m(\u001b[32m0\u001b[39m,\u001b[32m300\u001b[39m):\n\u001b[32m----> \u001b[39m\u001b[32m4\u001b[39m     predictions[i] = \u001b[43mpredict_house_price\u001b[49m(i+\u001b[32m1\u001b[39m)\n",
      "\u001b[31mNameError\u001b[39m: name 'predict_house_price' is not defined"
     ]
    }
   ],
   "source": [
    "predictions = list(range(1,301))\n",
    "marlas = list(range(1,301))\n",
    "for i in range(0,300):\n",
    "    predictions[i] = predict_house_price(i+1)"
   ]
  },
  {
   "cell_type": "code",
   "execution_count": 15,
   "id": "b5f85093-50f9-43bf-a855-464578e87983",
   "metadata": {},
   "outputs": [
    {
     "data": {
      "text/plain": [
       "<matplotlib.collections.PathCollection at 0x2498cb579e0>"
      ]
     },
     "execution_count": 15,
     "metadata": {},
     "output_type": "execute_result"
    },
    {
     "data": {
      "image/png": "[encoded data removed]",
      "text/plain": [
       "<Figure size 640x480 with 1 Axes>"
      ]
     },
     "metadata": {},
     "output_type": "display_data"
    }
   ],
   "source": [
    "import matplotlib.pyplot as plt\n",
    "plt.plot(marlas,predictions,color='green')\n",
    "plt.title(\"Line Fitting on actual Data using predicted data\")\n",
    "plt.xlabel(\"House Size in Marlas\")\n",
    "plt.ylabel(\"House Price In Lacs\")\n",
    "plt.scatter(x_area,y_price,marker='x',color='r')\n",
    "plt.show()"
   ]
  },
  {
   "cell_type": "code",
   "execution_count": null,
   "id": "dd312683-1360-4d4c-9c48-36efa92dd22b",
   "metadata": {},
   "outputs": [],
   "source": []
  }
 ],
 "metadata": {
  "kernelspec": {
   "display_name": "Python 3 (ipykernel)",
   "language": "python",
   "name": "python3"
  },
  "language_info": {
   "codemirror_mode": {
    "name": "ipython",
    "version": 3
   },
   "file_extension": ".py",
   "mimetype": "text/x-python",
   "name": "python",
   "nbconvert_exporter": "python",
   "pygments_lexer": "ipython3",
   "version": "3.12.4"
  }
 },
 "nbformat": 4,
 "nbformat_minor": 5
}
