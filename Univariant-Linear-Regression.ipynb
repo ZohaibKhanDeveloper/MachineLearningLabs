{
 "cells": [
  {
   "cell_type": "markdown",
   "id": "28277b74-a690-4706-bdc1-7e25e41f79c6",
   "metadata": {},
   "source": [
    "<h1 style='color:orange'><u><i><b>UNIVARIANT LINEAR REGRESSION MODEL ( HOUSE PRICE PREDICTION )</b></i></u></h1>\n",
    "<p>This Model Is completely based on how to predict a house price using univariant linear regression algorithms. In this notebook this is implemented manualy or without using Scikit-Learn etc but pandas & numpy is used. The dataset includes the house price in Lacs and Crores while the size of the house is available in square feet, Marlas, & Kanals. I will just pick only two columns from the data like size in square feet while the price will be in Lacs. Dataset includes 180 records or rows which is collected using web scrapping techniques in python like beautifulSoup, requests, and Selenium. But the data is collected from the website is just for testing purpose not others. Main Location of the residential plots is Multan    <b>--<i>ZOHAIB KHAN</i></b></p>"
   ]
  },
  {
   "cell_type": "code",
   "execution_count": 1,
   "id": "e86d543e-33f4-47c2-8f45-411da4ae63a9",
   "metadata": {},
   "outputs": [],
   "source": [
    "import pandas as pd"
   ]
  },
  {
   "cell_type": "code",
   "execution_count": 2,
   "id": "a52b83fa-e137-41db-b7fa-661b324f1c83",
   "metadata": {},
   "outputs": [
    {
     "data": {
      "text/html": [
       "<div>\n",
       "<style scoped>\n",
       "    .dataframe tbody tr th:only-of-type {\n",
       "        vertical-align: middle;\n",
       "    }\n",
       "\n",
       "    .dataframe tbody tr th {\n",
       "        vertical-align: top;\n",
       "    }\n",
       "\n",
       "    .dataframe thead th {\n",
       "        text-align: right;\n",
       "    }\n",
       "</style>\n",
       "<table border=\"1\" class=\"dataframe\">\n",
       "  <thead>\n",
       "    <tr style=\"text-align: right;\">\n",
       "      <th></th>\n",
       "      <th>Area (Marlas)</th>\n",
       "      <th>Area (Kanals)</th>\n",
       "      <th>Area (Sq-feet)</th>\n",
       "      <th>Price (Lacs)</th>\n",
       "      <th>Price (Crores)</th>\n",
       "      <th>Location</th>\n",
       "    </tr>\n",
       "  </thead>\n",
       "  <tbody>\n",
       "    <tr>\n",
       "      <th>0</th>\n",
       "      <td>20.0</td>\n",
       "      <td>1.00</td>\n",
       "      <td>5445.00</td>\n",
       "      <td>40.0</td>\n",
       "      <td>0.400</td>\n",
       "      <td>Old Shujabad Road, Multan</td>\n",
       "    </tr>\n",
       "    <tr>\n",
       "      <th>1</th>\n",
       "      <td>20.0</td>\n",
       "      <td>1.00</td>\n",
       "      <td>5445.00</td>\n",
       "      <td>120.0</td>\n",
       "      <td>1.200</td>\n",
       "      <td>DHA Sector Q, Multan</td>\n",
       "    </tr>\n",
       "    <tr>\n",
       "      <th>2</th>\n",
       "      <td>20.0</td>\n",
       "      <td>1.00</td>\n",
       "      <td>5445.00</td>\n",
       "      <td>115.0</td>\n",
       "      <td>1.150</td>\n",
       "      <td>DHA Sector Q, Multan</td>\n",
       "    </tr>\n",
       "    <tr>\n",
       "      <th>3</th>\n",
       "      <td>20.0</td>\n",
       "      <td>1.00</td>\n",
       "      <td>5445.00</td>\n",
       "      <td>110.0</td>\n",
       "      <td>1.100</td>\n",
       "      <td>DHA Sector Q, Multan</td>\n",
       "    </tr>\n",
       "    <tr>\n",
       "      <th>4</th>\n",
       "      <td>20.0</td>\n",
       "      <td>1.00</td>\n",
       "      <td>5445.00</td>\n",
       "      <td>105.0</td>\n",
       "      <td>1.050</td>\n",
       "      <td>DHA Sector Q, Multan</td>\n",
       "    </tr>\n",
       "    <tr>\n",
       "      <th>...</th>\n",
       "      <td>...</td>\n",
       "      <td>...</td>\n",
       "      <td>...</td>\n",
       "      <td>...</td>\n",
       "      <td>...</td>\n",
       "      <td>...</td>\n",
       "    </tr>\n",
       "    <tr>\n",
       "      <th>175</th>\n",
       "      <td>7.0</td>\n",
       "      <td>0.35</td>\n",
       "      <td>1905.75</td>\n",
       "      <td>28.0</td>\n",
       "      <td>0.280</td>\n",
       "      <td>Bahawalpur Road, Multan</td>\n",
       "    </tr>\n",
       "    <tr>\n",
       "      <th>176</th>\n",
       "      <td>5.0</td>\n",
       "      <td>0.25</td>\n",
       "      <td>1361.25</td>\n",
       "      <td>17.5</td>\n",
       "      <td>0.175</td>\n",
       "      <td>Bahawalpur Road, Multan</td>\n",
       "    </tr>\n",
       "    <tr>\n",
       "      <th>177</th>\n",
       "      <td>3.0</td>\n",
       "      <td>0.15</td>\n",
       "      <td>816.75</td>\n",
       "      <td>12.0</td>\n",
       "      <td>0.120</td>\n",
       "      <td>Bahawalpur Road, Multan</td>\n",
       "    </tr>\n",
       "    <tr>\n",
       "      <th>178</th>\n",
       "      <td>20.0</td>\n",
       "      <td>1.00</td>\n",
       "      <td>5445.00</td>\n",
       "      <td>95.0</td>\n",
       "      <td>0.950</td>\n",
       "      <td>DHA Sector X, Multan</td>\n",
       "    </tr>\n",
       "    <tr>\n",
       "      <th>179</th>\n",
       "      <td>20.0</td>\n",
       "      <td>1.00</td>\n",
       "      <td>5445.00</td>\n",
       "      <td>112.0</td>\n",
       "      <td>1.120</td>\n",
       "      <td>DHA Sector K, Multan</td>\n",
       "    </tr>\n",
       "  </tbody>\n",
       "</table>\n",
       "<p>180 rows × 6 columns</p>\n",
       "</div>"
      ],
      "text/plain": [
       "     Area (Marlas)  Area (Kanals)  Area (Sq-feet)  Price (Lacs)  \\\n",
       "0             20.0           1.00         5445.00          40.0   \n",
       "1             20.0           1.00         5445.00         120.0   \n",
       "2             20.0           1.00         5445.00         115.0   \n",
       "3             20.0           1.00         5445.00         110.0   \n",
       "4             20.0           1.00         5445.00         105.0   \n",
       "..             ...            ...             ...           ...   \n",
       "175            7.0           0.35         1905.75          28.0   \n",
       "176            5.0           0.25         1361.25          17.5   \n",
       "177            3.0           0.15          816.75          12.0   \n",
       "178           20.0           1.00         5445.00          95.0   \n",
       "179           20.0           1.00         5445.00         112.0   \n",
       "\n",
       "     Price (Crores)                   Location  \n",
       "0             0.400  Old Shujabad Road, Multan  \n",
       "1             1.200       DHA Sector Q, Multan  \n",
       "2             1.150       DHA Sector Q, Multan  \n",
       "3             1.100       DHA Sector Q, Multan  \n",
       "4             1.050       DHA Sector Q, Multan  \n",
       "..              ...                        ...  \n",
       "175           0.280    Bahawalpur Road, Multan  \n",
       "176           0.175    Bahawalpur Road, Multan  \n",
       "177           0.120    Bahawalpur Road, Multan  \n",
       "178           0.950       DHA Sector X, Multan  \n",
       "179           1.120       DHA Sector K, Multan  \n",
       "\n",
       "[180 rows x 6 columns]"
      ]
     },
     "execution_count": 2,
     "metadata": {},
     "output_type": "execute_result"
    }
   ],
   "source": [
    "dataset = pd.read_csv(\"Data-Files/ResidentialPlotsDataSetUpdated.csv\")\n",
    "dataset"
   ]
  },
  {
   "cell_type": "markdown",
   "id": "63987401-d10e-4db5-9d52-a1d6eb74653b",
   "metadata": {},
   "source": [
    "<p style='font-style:italic; font-weight:bold; font-family:sans-serif;'>Pick up area in Marlas and price in Lacs in order to implement Univariant linear regression.</p>"
   ]
  },
  {
   "cell_type": "code",
   "execution_count": 3,
   "id": "3df666ef-ff41-455e-a35f-bd1ed7b2e19e",
   "metadata": {},
   "outputs": [
    {
     "name": "stdout",
     "output_type": "stream",
     "text": [
      "[20.0, 20.0, 20.0, 20.0, 20.0, 20.0, 20.0, 20.0, 20.0, 20.0, 2.5, 20.0, 20.0, 20.0, 20.0, 20.0, 20.0, 20.0, 20.0, 20.0, 20.0, 20.0, 20.0, 20.0, 20.0, 3.0, 20.0, 20.0, 20.0, 20.0, 20.0, 4.25, 20.0, 20.0, 20.0, 20.0, 20.0, 20.0, 20.0, 20.0, 20.0, 20.0, 20.0, 20.0, 5.0, 20.0, 20.0, 20.0, 20.0, 20.0, 20.0, 20.0, 20.0, 20.0, 20.0, 20.0, 20.0, 10.0, 5.0, 10.0, 10.0, 10.0, 10.0, 5.0, 5.0, 5.0, 5.0, 5.0, 5.0, 20.0, 20.0, 2400.0, 20.0, 20.0, 20.0, 20.0, 20.0, 20.0, 20.0, 20.0, 20.0, 20.0, 20.0, 20.0, 20.0, 20.0, 20.0, 20.0, 20.0, 20.0, 20.0, 20.0, 20.0, 20.0, 20.0, 20.0, 20.0, 10.0, 10.0, 10.0, 10.0, 10.0, 10.0, 8.0, 8.0, 8.0, 8.0, 8.0, 8.0, 20.0, 8.0, 7.0, 20.0, 30.0, 20.0, 9.0, 10.0, 10.0, 5.0, 20.0, 20.0, 20.0, 20.0, 5.0, 12.0, 10.0, 10.0, 10.0, 20.0, 20.0, 2.22, 5.12, 9.0, 5.22, 5.0, 10.0, 12.0, 20.0, 5.16, 2.22, 2.19, 9.85, 20.0, 20.0, 20.0, 20.0, 20.0, 20.0, 20.0, 40.0, 20.0, 20.0, 20.0, 20.0, 20.0, 20.0, 20.0, 20.0, 20.0, 20.0, 20.0, 2.203856749311295, 20.0, 20.0, 20.0, 9.85, 20.0, 20.0, 20.0, 20.0, 20.0, 20.0, 20.0, 20.0, 10.0, 7.0, 5.0, 3.0, 20.0, 20.0]\n"
     ]
    }
   ],
   "source": [
    "x_area = dataset[\"Area (Marlas)\"].tolist()\n",
    "print(x_area)"
   ]
  },
  {
   "cell_type": "code",
   "execution_count": 4,
   "id": "6b7359a3-ef1c-4a6c-a00a-b653f2708df9",
   "metadata": {},
   "outputs": [
    {
     "name": "stdout",
     "output_type": "stream",
     "text": [
      "[40.0, 120.0, 115.0, 110.0, 105.0, 100.0, 95.0, 90.0, 85.0, 80.0, 38.0, 140.0, 135.0, 130.0, 125.0, 120.0, 115.0, 110.0, 105.0, 100.0, 95.0, 100.0, 120.0, 105.0, 125.0, 18.0, 95.0, 90.0, 85.0, 80.0, 75.0, 18.0, 140.0, 135.0, 130.0, 125.0, 120.0, 115.0, 110.0, 105.0, 100.0, 95.0, 90.0, 85.0, 17.0, 150.0, 145.0, 140.0, 135.0, 130.0, 125.0, 120.0, 115.0, 110.0, 105.0, 100.0, 95.0, 50.0, 31.0, 55.0, 50.0, 45.0, 40.0, 45.0, 42.0, 40.0, 35.0, 30.0, 26.0, 95.0, 105.0, 1650.0, 70.0, 65.0, 60.0, 100.0, 95.0, 90.0, 85.0, 80.0, 75.0, 125.0, 120.0, 115.0, 110.0, 105.0, 100.0, 95.0, 90.0, 85.0, 80.0, 100.0, 95.0, 90.0, 85.0, 80.0, 75.0, 50.0, 60.0, 55.0, 50.0, 45.0, 40.0, 45.0, 42.0, 40.0, 38.0, 35.0, 33.0, 55.0, 33.0, 21.0, 250.0, 360.0, 190.0, 126.0, 120.0, 110.0, 67.5, 88.0, 100.0, 85.0, 75.0, 72.5, 63.0, 45.0, 47.0, 50.0, 112.0, 103.0, 200.0, 69.12, 108.0, 75.69, 62.5, 52.0, 144.0, 45.0, 74.82, 200.0, 117.0, 133.0, 62.0, 60.0, 65.0, 62.0, 59.0, 57.0, 55.0, 720.0, 95.0, 93.0, 90.0, 88.0, 86.0, 84.0, 80.0, 78.0, 76.0, 74.0, 72.0, 90.0, 78.0, 76.0, 72.0, 133.0, 75.0, 600.0, 95.0, 110.0, 65.0, 55.0, 65.0, 95.0, 40.0, 28.0, 17.5, 12.0, 95.0, 112.0]\n"
     ]
    }
   ],
   "source": [
    "y_price = dataset[\"Price (Lacs)\"].tolist()\n",
    "print(y_price)"
   ]
  },
  {
   "cell_type": "code",
   "execution_count": 5,
   "id": "e2cac306-31ca-4629-94a5-ea40f2707194",
   "metadata": {},
   "outputs": [],
   "source": [
    "import matplotlib.pyplot as plt"
   ]
  },
  {
   "cell_type": "code",
   "execution_count": 6,
   "id": "e4766f7c-3d4a-4280-9017-1cf451b3ad43",
   "metadata": {},
   "outputs": [
    {
     "data": {
      "image/png": "[encoded data removed]",
      "text/plain": [
       "<Figure size 640x480 with 1 Axes>"
      ]
     },
     "metadata": {},
     "output_type": "display_data"
    }
   ],
   "source": [
    "plt.scatter(x_area,y_price,marker='x',color='r')\n",
    "plt.title(\"House Sizes With Prices\")\n",
    "plt.xlabel(\"House Size in Marlas (x)\")\n",
    "plt.ylabel(\"House Price in Lacs (y)\")\n",
    "plt.show()"
   ]
  },
  {
   "cell_type": "code",
   "execution_count": 7,
   "id": "0290bb13-855b-4fe3-90f5-afa8d9bd360c",
   "metadata": {},
   "outputs": [
    {
     "data": {
      "text/plain": [
       "[1.0, 1.0]"
      ]
     },
     "execution_count": 7,
     "metadata": {},
     "output_type": "execute_result"
    }
   ],
   "source": [
    "weights = [1.0,1.0]\n",
    "weights"
   ]
  },
  {
   "cell_type": "code",
   "execution_count": 8,
   "id": "718fb5e1-13a7-4974-be7b-1c9660fbc0db",
   "metadata": {},
   "outputs": [],
   "source": [
    "def calculate_total_cost(x,y,w,b):\n",
    "    m = len(y)\n",
    "    total_cost = 0\n",
    "    for i in range(m):\n",
    "        y_predicted = w*x[i] + b\n",
    "        cost = (y_predicted - y[i])**2\n",
    "        total_cost += cost\n",
    "    total_cost /= (2*m)\n",
    "    return total_cost"
   ]
  },
  {
   "cell_type": "code",
   "execution_count": 9,
   "id": "94761f78-874e-4fda-8cfc-9393e54859f4",
   "metadata": {},
   "outputs": [
    {
     "data": {
      "text/plain": [
       "7005.973214953317"
      ]
     },
     "execution_count": 9,
     "metadata": {},
     "output_type": "execute_result"
    }
   ],
   "source": [
    "calculate_total_cost(x_area,y_price,weights[0],weights[1])"
   ]
  },
  {
   "cell_type": "code",
   "execution_count": 10,
   "id": "7493da4c-b526-45bd-85bf-dac4e9667bdf",
   "metadata": {},
   "outputs": [],
   "source": [
    "def gradient_descent(x,y,w,b,alpha):\n",
    "    m = len(y)\n",
    "    dw = 0\n",
    "    db = 0\n",
    "    for i in range(m):\n",
    "        y_predicted = w*x[i] + b\n",
    "        dw += (y_predicted - y[i]) * x[i]\n",
    "        db += (y_predicted - y[i])\n",
    "    dw /= m\n",
    "    db /= m\n",
    "    w -= alpha*dw\n",
    "    b -= alpha*db\n",
    "    return w,b"
   ]
  },
  {
   "cell_type": "code",
   "execution_count": 11,
   "id": "64151806-7d03-4340-8003-316984ee97f4",
   "metadata": {},
   "outputs": [],
   "source": [
    "for i in range(180):\n",
    "    weights[0] , weights[1] = gradient_descent(x_area,y_price,weights[0],weights[1],0.0005)"
   ]
  },
  {
   "cell_type": "code",
   "execution_count": 12,
   "id": "b2c95d4d-376c-4fd9-a42b-b1256ef80874",
   "metadata": {},
   "outputs": [
    {
     "data": {
      "text/plain": [
       "[8.028244780153969e+211, 7.316612780334512e+208]"
      ]
     },
     "execution_count": 12,
     "metadata": {},
     "output_type": "execute_result"
    }
   ],
   "source": [
    "def predict_house_price(x):\n",
    "    return weights[0]*x + weights[1]\n",
    "weights    "
   ]
  },
  {
   "cell_type": "code",
   "execution_count": 13,
   "id": "20c2a68a-aebd-4c13-82f9-2214c5e4f738",
   "metadata": {},
   "outputs": [
    {
     "data": {
      "text/plain": [
       "4.014854051355018e+212"
      ]
     },
     "execution_count": 13,
     "metadata": {},
     "output_type": "execute_result"
    }
   ],
   "source": [
    "predict_house_price(5)"
   ]
  },
  {
   "cell_type": "code",
   "execution_count": 14,
   "id": "c693b4d9-f64c-4b9d-87d9-0a250600f280",
   "metadata": {},
   "outputs": [],
   "source": [
    "predictions = []\n",
    "for i in x_area:\n",
    "    predictions.append(predict_house_price(i))    "
   ]
  },
  {
   "cell_type": "code",
   "execution_count": 15,
   "id": "b5f85093-50f9-43bf-a855-464578e87983",
   "metadata": {},
   "outputs": [
    {
     "data": {
      "image/png": "[encoded data removed]",
      "text/plain": [
       "<Figure size 640x480 with 1 Axes>"
      ]
     },
     "metadata": {},
     "output_type": "display_data"
    }
   ],
   "source": [
    "plt.scatter(x_area, y_price, marker='x', color='r', label=\"Actual Data\")\n",
    "plt.plot(x_area,predictions,color='g',label='Line Fit')\n",
    "plt.xlabel(\"House Size in Marlas\")\n",
    "plt.ylabel(\"House Price Lacs\")\n",
    "plt.title(\"House Price Prediction using Linear Regression\")\n",
    "plt.legend()\n",
    "plt.show()"
   ]
  },
  {
   "cell_type": "code",
   "execution_count": null,
   "id": "02d90af6-a8ca-4b81-b52a-983908126abe",
   "metadata": {},
   "outputs": [],
   "source": []
  }
 ],
 "metadata": {
  "kernelspec": {
   "display_name": "Python 3 (ipykernel)",
   "language": "python",
   "name": "python3"
  },
  "language_info": {
   "codemirror_mode": {
    "name": "ipython",
    "version": 3
   },
   "file_extension": ".py",
   "mimetype": "text/x-python",
   "name": "python",
   "nbconvert_exporter": "python",
   "pygments_lexer": "ipython3",
   "version": "3.12.4"
  }
 },
 "nbformat": 4,
 "nbformat_minor": 5
}
