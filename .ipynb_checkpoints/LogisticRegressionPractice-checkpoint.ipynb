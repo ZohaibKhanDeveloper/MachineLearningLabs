{
 "cells": [
  {
   "cell_type": "markdown",
   "id": "50e5f969-07d2-478a-8fdb-29b1aa51bf2c",
   "metadata": {},
   "source": [
    "<div style=\"\n",
    "    background-color:#222;\n",
    "    color:#fff;\n",
    "    border-radius:5px;\n",
    "    padding:10px;\n",
    "    \">\n",
    "    <h1 style=\"\n",
    "        color:orange;\n",
    "        text-decoration:underline;\n",
    "        font-style:italic;\n",
    "        font-family:sans-serif;\n",
    "        \">Logistic Regression Implementation (Diabetes Classification)</h1>\n",
    "    <p>The Dataset loaded for training the model is a random dataset created using a simple python program while values range keeping in mind. <br>\n",
    "    As shown below in the dataset the person will be considered diabetic or non-diabetic according to its previous tests result and thier previous history like exercise per week his/her pressure level and his/her family history and more.</p>\n",
    "</div>"
   ]
  },
  {
   "cell_type": "code",
   "execution_count": 1,
   "id": "a97604b8-5393-4a39-a095-0eeb5284079f",
   "metadata": {},
   "outputs": [],
   "source": [
    "import numpy as np\n",
    "import pandas as pd"
   ]
  },
  {
   "cell_type": "code",
   "execution_count": 2,
   "id": "06490902-3c41-46da-86f3-4fd371593d6b",
   "metadata": {},
   "outputs": [
    {
     "data": {
      "text/html": [
       "<div>\n",
       "<style scoped>\n",
       "    .dataframe tbody tr th:only-of-type {\n",
       "        vertical-align: middle;\n",
       "    }\n",
       "\n",
       "    .dataframe tbody tr th {\n",
       "        vertical-align: top;\n",
       "    }\n",
       "\n",
       "    .dataframe thead th {\n",
       "        text-align: right;\n",
       "    }\n",
       "</style>\n",
       "<table border=\"1\" class=\"dataframe\">\n",
       "  <thead>\n",
       "    <tr style=\"text-align: right;\">\n",
       "      <th></th>\n",
       "      <th>Age</th>\n",
       "      <th>Body Mass Index(BMI)</th>\n",
       "      <th>Glucose Level</th>\n",
       "      <th>Blood Pressure</th>\n",
       "      <th>Family History</th>\n",
       "      <th>Physical Activity(hrs/week)</th>\n",
       "      <th>Diabetic(0/1)</th>\n",
       "    </tr>\n",
       "  </thead>\n",
       "  <tbody>\n",
       "    <tr>\n",
       "      <th>0</th>\n",
       "      <td>74</td>\n",
       "      <td>28.2</td>\n",
       "      <td>136</td>\n",
       "      <td>148</td>\n",
       "      <td>1</td>\n",
       "      <td>8.1</td>\n",
       "      <td>1</td>\n",
       "    </tr>\n",
       "    <tr>\n",
       "      <th>1</th>\n",
       "      <td>28</td>\n",
       "      <td>39.4</td>\n",
       "      <td>78</td>\n",
       "      <td>102</td>\n",
       "      <td>1</td>\n",
       "      <td>2.4</td>\n",
       "      <td>1</td>\n",
       "    </tr>\n",
       "    <tr>\n",
       "      <th>2</th>\n",
       "      <td>27</td>\n",
       "      <td>36.0</td>\n",
       "      <td>117</td>\n",
       "      <td>173</td>\n",
       "      <td>1</td>\n",
       "      <td>1.1</td>\n",
       "      <td>1</td>\n",
       "    </tr>\n",
       "    <tr>\n",
       "      <th>3</th>\n",
       "      <td>72</td>\n",
       "      <td>43.9</td>\n",
       "      <td>149</td>\n",
       "      <td>101</td>\n",
       "      <td>0</td>\n",
       "      <td>3.0</td>\n",
       "      <td>1</td>\n",
       "    </tr>\n",
       "    <tr>\n",
       "      <th>4</th>\n",
       "      <td>37</td>\n",
       "      <td>42.0</td>\n",
       "      <td>166</td>\n",
       "      <td>92</td>\n",
       "      <td>1</td>\n",
       "      <td>0.8</td>\n",
       "      <td>1</td>\n",
       "    </tr>\n",
       "    <tr>\n",
       "      <th>...</th>\n",
       "      <td>...</td>\n",
       "      <td>...</td>\n",
       "      <td>...</td>\n",
       "      <td>...</td>\n",
       "      <td>...</td>\n",
       "      <td>...</td>\n",
       "      <td>...</td>\n",
       "    </tr>\n",
       "    <tr>\n",
       "      <th>495</th>\n",
       "      <td>23</td>\n",
       "      <td>44.9</td>\n",
       "      <td>165</td>\n",
       "      <td>160</td>\n",
       "      <td>0</td>\n",
       "      <td>1.4</td>\n",
       "      <td>0</td>\n",
       "    </tr>\n",
       "    <tr>\n",
       "      <th>496</th>\n",
       "      <td>48</td>\n",
       "      <td>27.2</td>\n",
       "      <td>170</td>\n",
       "      <td>134</td>\n",
       "      <td>0</td>\n",
       "      <td>4.6</td>\n",
       "      <td>0</td>\n",
       "    </tr>\n",
       "    <tr>\n",
       "      <th>497</th>\n",
       "      <td>76</td>\n",
       "      <td>25.6</td>\n",
       "      <td>177</td>\n",
       "      <td>111</td>\n",
       "      <td>1</td>\n",
       "      <td>1.9</td>\n",
       "      <td>1</td>\n",
       "    </tr>\n",
       "    <tr>\n",
       "      <th>498</th>\n",
       "      <td>41</td>\n",
       "      <td>25.5</td>\n",
       "      <td>189</td>\n",
       "      <td>95</td>\n",
       "      <td>1</td>\n",
       "      <td>8.3</td>\n",
       "      <td>1</td>\n",
       "    </tr>\n",
       "    <tr>\n",
       "      <th>499</th>\n",
       "      <td>67</td>\n",
       "      <td>43.4</td>\n",
       "      <td>173</td>\n",
       "      <td>128</td>\n",
       "      <td>1</td>\n",
       "      <td>5.3</td>\n",
       "      <td>1</td>\n",
       "    </tr>\n",
       "  </tbody>\n",
       "</table>\n",
       "<p>500 rows × 7 columns</p>\n",
       "</div>"
      ],
      "text/plain": [
       "     Age  Body Mass Index(BMI)  Glucose Level  Blood Pressure  Family History  \\\n",
       "0     74                  28.2            136             148               1   \n",
       "1     28                  39.4             78             102               1   \n",
       "2     27                  36.0            117             173               1   \n",
       "3     72                  43.9            149             101               0   \n",
       "4     37                  42.0            166              92               1   \n",
       "..   ...                   ...            ...             ...             ...   \n",
       "495   23                  44.9            165             160               0   \n",
       "496   48                  27.2            170             134               0   \n",
       "497   76                  25.6            177             111               1   \n",
       "498   41                  25.5            189              95               1   \n",
       "499   67                  43.4            173             128               1   \n",
       "\n",
       "     Physical Activity(hrs/week)  Diabetic(0/1)  \n",
       "0                            8.1              1  \n",
       "1                            2.4              1  \n",
       "2                            1.1              1  \n",
       "3                            3.0              1  \n",
       "4                            0.8              1  \n",
       "..                           ...            ...  \n",
       "495                          1.4              0  \n",
       "496                          4.6              0  \n",
       "497                          1.9              1  \n",
       "498                          8.3              1  \n",
       "499                          5.3              1  \n",
       "\n",
       "[500 rows x 7 columns]"
      ]
     },
     "execution_count": 2,
     "metadata": {},
     "output_type": "execute_result"
    }
   ],
   "source": [
    "dataset = pd.read_csv(\"Data-Files/RandomDataSetCreation/DiabetesClassificationData.csv\")\n",
    "dataset"
   ]
  },
  {
   "cell_type": "code",
   "execution_count": 3,
   "id": "b1b6e6ba-0f50-4466-bdef-2c2969acb61e",
   "metadata": {},
   "outputs": [],
   "source": [
    "age = dataset[\"Age\"].tolist()\n",
    "bmi = dataset[\"Body Mass Index(BMI)\"].tolist()\n",
    "gl = dataset[\"Glucose Level\"].tolist()\n",
    "bp = dataset[\"Blood Pressure\"].tolist()\n",
    "fh = dataset[\"Family History\"].tolist()\n",
    "pa = dataset[\"Physical Activity(hrs/week)\"].tolist()\n",
    "is_diabetic = dataset[\"Diabetic(0/1)\"].tolist()"
   ]
  },
  {
   "cell_type": "code",
   "execution_count": 4,
   "id": "c556d917-753f-4277-a75e-81e43e20f085",
   "metadata": {},
   "outputs": [],
   "source": [
    "patient_num = [i for i in range(1,501)]"
   ]
  },
  {
   "cell_type": "code",
   "execution_count": 5,
   "id": "734f6772-d9f6-4057-996d-eae4c1ba95a7",
   "metadata": {},
   "outputs": [],
   "source": [
    "import matplotlib.pyplot as plt"
   ]
  },
  {
   "cell_type": "code",
   "execution_count": 6,
   "id": "dfc0acd7-a975-4ac0-91f0-57b6cc132f23",
   "metadata": {},
   "outputs": [
    {
     "data": {
      "image/png": "[encoded data removed]",
      "text/plain": [
       "<Figure size 640x480 with 1 Axes>"
      ]
     },
     "metadata": {},
     "output_type": "display_data"
    }
   ],
   "source": [
    "plt.hist(age,bins=80,color='red',label='age')\n",
    "plt.hist(bmi,bins=45,color='green',label='BMI')\n",
    "plt.hist(gl,bins=200,color='blue',label='Glucose Level')\n",
    "plt.hist(bp,bins=180,color='purple',label='Blood Pressure')\n",
    "plt.hist(pa,bins=10,color='lime',label='Physical Activity')\n",
    "plt.xlabel(\"Age,BMI,Glucose Level,Blood Pressure,Physical Activity\")\n",
    "plt.ylabel(\"Frequency\")\n",
    "plt.grid()\n",
    "plt.legend()\n",
    "plt.show()"
   ]
  },
  {
   "cell_type": "code",
   "execution_count": 7,
   "id": "3e6396c6-44d4-41b5-aad1-d5b9751580ad",
   "metadata": {},
   "outputs": [],
   "source": [
    "def scale_feature(feature):\n",
    "    max_val = max(feature)\n",
    "    print(max_val)\n",
    "    scaled_feature = [val/max_val for val in feature]\n",
    "    return scaled_feature"
   ]
  },
  {
   "cell_type": "code",
   "execution_count": 8,
   "id": "3e5f91db-4952-48f5-9d0b-b36f064891f0",
   "metadata": {},
   "outputs": [
    {
     "name": "stdout",
     "output_type": "stream",
     "text": [
      "80\n",
      "44.9\n",
      "200\n",
      "180\n",
      "10.0\n"
     ]
    }
   ],
   "source": [
    "age = np.array(scale_feature(age)).reshape(-1,1)\n",
    "bmi = np.array(scale_feature(bmi)).reshape(-1,1)\n",
    "gl = np.array(scale_feature(gl)).reshape(-1,1)\n",
    "bp = np.array(scale_feature(bp)).reshape(-1,1)\n",
    "fh = np.array(fh).reshape(-1,1)\n",
    "pa = np.array(scale_feature(pa)).reshape(-1,1)"
   ]
  },
  {
   "cell_type": "code",
   "execution_count": 9,
   "id": "d447b030-3a22-412e-aebb-02226bc5722f",
   "metadata": {},
   "outputs": [
    {
     "name": "stdout",
     "output_type": "stream",
     "text": [
      "[[1.         0.925      0.62806236 ... 0.82222222 1.         0.81      ]\n",
      " [1.         0.35       0.87750557 ... 0.56666667 1.         0.24      ]\n",
      " [1.         0.3375     0.80178174 ... 0.96111111 1.         0.11      ]\n",
      " ...\n",
      " [1.         0.95       0.5701559  ... 0.61666667 1.         0.19      ]\n",
      " [1.         0.5125     0.56792873 ... 0.52777778 1.         0.83      ]\n",
      " [1.         0.8375     0.96659243 ... 0.71111111 1.         0.53      ]]\n",
      "(500, 7)\n",
      "3500\n"
     ]
    }
   ],
   "source": [
    "x = np.column_stack((np.ones(500),age,bmi,gl,bp,fh,pa))\n",
    "print(x)\n",
    "print(x.shape)\n",
    "print(x.size)"
   ]
  },
  {
   "cell_type": "code",
   "execution_count": 10,
   "id": "955f426f-e7ac-4579-9879-a5472a4081a1",
   "metadata": {},
   "outputs": [
    {
     "data": {
      "text/plain": [
       "(500, 1)"
      ]
     },
     "execution_count": 10,
     "metadata": {},
     "output_type": "execute_result"
    }
   ],
   "source": [
    "y = np.array(is_diabetic).reshape(-1,1)\n",
    "y.shape"
   ]
  },
  {
   "cell_type": "code",
   "execution_count": 11,
   "id": "bac5e27c-becd-434f-ad61-395b4e06cb7d",
   "metadata": {},
   "outputs": [],
   "source": [
    "def sigmoid(z):\n",
    "    return 1/(1 + np.exp(-z))\n",
    "def compute_cost(x,y,w):\n",
    "    m = len(y)\n",
    "    h = sigmoid(x @ w)\n",
    "    cost = (-1/m) * (y.T @ np.log(h) + (1 - y).T @ np.log(1 - h))\n",
    "    return cost.item()\n",
    "def compute_gradient(x,y,w):\n",
    "    m = len(y)\n",
    "    h = sigmoid(x @ w)\n",
    "    gradient = (1/m) * (x.T @ (h - y))\n",
    "    return gradient"
   ]
  },
  {
   "cell_type": "code",
   "execution_count": 12,
   "id": "04c0f6ad-7fee-4584-abff-fef3f8aa5b43",
   "metadata": {},
   "outputs": [],
   "source": [
    "w = np.zeros((7,1))\n",
    "costs = []\n",
    "epochs = []\n",
    "for i in range(300):\n",
    "    epochs.append(i)\n",
    "    costs.append(compute_cost(x,y,w))\n",
    "    w -= 0.0000001 * compute_gradient(x,y,w)"
   ]
  },
  {
   "cell_type": "code",
   "execution_count": 13,
   "id": "2ab4ef22-91b7-48ae-8c2d-b3b1fe162ae1",
   "metadata": {},
   "outputs": [
    {
     "data": {
      "image/png": "[encoded data removed]",
      "text/plain": [
       "<Figure size 640x480 with 1 Axes>"
      ]
     },
     "metadata": {},
     "output_type": "display_data"
    }
   ],
   "source": [
    "plt.plot(epochs,costs,c='r')\n",
    "plt.title(\"Cost Decreasing and Weights are Updating\")\n",
    "plt.xlabel(\"Epochs\")\n",
    "plt.ylabel(\"Cost\")\n",
    "plt.show()"
   ]
  },
  {
   "cell_type": "code",
   "execution_count": 14,
   "id": "427d5488-88f5-4e6d-ae5d-e5c4c62fbe08",
   "metadata": {},
   "outputs": [
    {
     "data": {
      "text/plain": [
       "array([[-1.37999466e-06],\n",
       "       [-9.29966468e-08],\n",
       "       [-6.27924859e-07],\n",
       "       [ 9.93035641e-08],\n",
       "       [-9.51829277e-07],\n",
       "       [ 4.04999894e-06],\n",
       "       [-2.01779676e-06]])"
      ]
     },
     "execution_count": 14,
     "metadata": {},
     "output_type": "execute_result"
    }
   ],
   "source": [
    "w"
   ]
  },
  {
   "cell_type": "code",
   "execution_count": 15,
   "id": "47180257-7010-4d45-93ab-3b442e43d029",
   "metadata": {},
   "outputs": [],
   "source": [
    "b = w[0][0]\n",
    "w1 = w[1][0]\n",
    "w2 = w[2][0]\n",
    "w3 = w[3][0]\n",
    "w4 = w[4][0]\n",
    "w5 = w[5][0]\n",
    "w6 = w[6][0]"
   ]
  },
  {
   "cell_type": "code",
   "execution_count": 16,
   "id": "1b8eb06e-a868-43b1-90e3-2bfef0f1f132",
   "metadata": {},
   "outputs": [],
   "source": [
    "def sigmoid(age,bmi,gl,bp,fh,pa):\n",
    "    age /= 80\n",
    "    bmi /= 44.9\n",
    "    gl /= 200\n",
    "    bp /= 180\n",
    "    pa /= 10\n",
    "    z = w1*age + w2*bmi + w3*gl + w4*bp + w5*fh + w6*pa + b\n",
    "    sig = 1 / (1+np.exp(-z))\n",
    "    if sig >= 0.5:\n",
    "        return \"Diabetic\"\n",
    "    else:\n",
    "        return \"Not Diabetic\""
   ]
  },
  {
   "cell_type": "code",
   "execution_count": 17,
   "id": "bc2ad8f4-11f0-4278-ad14-8d1f3740e8a1",
   "metadata": {},
   "outputs": [
    {
     "name": "stdout",
     "output_type": "stream",
     "text": [
      "Not Diabetic\n"
     ]
    }
   ],
   "source": [
    "print(sigmoid(74,28.2,136,148,1,8.1))"
   ]
  },
  {
   "cell_type": "code",
   "execution_count": 18,
   "id": "a5ccdddb-d81b-466e-8870-cfe2c3e0ac9f",
   "metadata": {},
   "outputs": [
    {
     "name": "stdout",
     "output_type": "stream",
     "text": [
      "Diabetic\n"
     ]
    }
   ],
   "source": [
    "print(sigmoid(28,39.4,78,102,1,2.4))"
   ]
  },
  {
   "cell_type": "code",
   "execution_count": 19,
   "id": "71c2fe33-2270-4fec-83bd-4aa3715b8550",
   "metadata": {},
   "outputs": [
    {
     "name": "stdout",
     "output_type": "stream",
     "text": [
      "Diabetic\n"
     ]
    }
   ],
   "source": [
    "print(sigmoid(27,36.0,117,173,1,1.1))"
   ]
  },
  {
   "cell_type": "code",
   "execution_count": 20,
   "id": "e2c003e4-d0a2-470c-bb2a-36b7b1c50d1e",
   "metadata": {},
   "outputs": [
    {
     "name": "stdout",
     "output_type": "stream",
     "text": [
      "Not Diabetic\n"
     ]
    }
   ],
   "source": [
    "print(sigmoid(23,44.9,165,160,0,1.4))"
   ]
  },
  {
   "cell_type": "markdown",
   "id": "ca31634c-507a-4ad4-9f7a-88bdb95af987",
   "metadata": {},
   "source": [
    "<h4>Zohaib Khan BSCS-A 6th Semester ISLAMIA COLLEGE PESHAWER</h4>"
   ]
  },
  {
   "cell_type": "code",
   "execution_count": null,
   "id": "4023c3fb-ff79-4564-833a-f3392c4440aa",
   "metadata": {},
   "outputs": [],
   "source": []
  }
 ],
 "metadata": {
  "kernelspec": {
   "display_name": "Python 3 (ipykernel)",
   "language": "python",
   "name": "python3"
  },
  "language_info": {
   "codemirror_mode": {
    "name": "ipython",
    "version": 3
   },
   "file_extension": ".py",
   "mimetype": "text/x-python",
   "name": "python",
   "nbconvert_exporter": "python",
   "pygments_lexer": "ipython3",
   "version": "3.12.4"
  }
 },
 "nbformat": 4,
 "nbformat_minor": 5
}
