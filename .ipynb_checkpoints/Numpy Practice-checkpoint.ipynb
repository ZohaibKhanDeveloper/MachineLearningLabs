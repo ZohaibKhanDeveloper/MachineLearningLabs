{
 "cells": [
  {
   "cell_type": "markdown",
   "id": "80e30eaf-f12f-4393-aee2-da28ea3604a8",
   "metadata": {},
   "source": [
    "***<h1><u style='color:yellow'>Numerical Python ( Numpy Basics 1-Dimensional )</u></h1>***\n",
    "This Notebook contain all the functions needed for data and operations on that data using numpy in python. It provides the basic intro to python numpy and how it works. At last it includes vector or matrix operations like addition subtraction and multiplication also called broadcasting or Matrix Multiplication.   -<b><i> Zohaib Khan</i></b>"
   ]
  },
  {
   "cell_type": "code",
   "execution_count": 1,
   "id": "ec489052-4b60-4a00-9fc6-3a1f4218d5be",
   "metadata": {},
   "outputs": [],
   "source": [
    "import numpy as np"
   ]
  },
  {
   "cell_type": "code",
   "execution_count": 2,
   "id": "394e12c5-cdbd-4bc3-a788-a71fc631258f",
   "metadata": {},
   "outputs": [],
   "source": [
    "numpy_array = np.array([0,1,2,3,4,5])"
   ]
  },
  {
   "cell_type": "code",
   "execution_count": 3,
   "id": "0bb59969-b5f9-46fa-8466-b81c28141e34",
   "metadata": {},
   "outputs": [
    {
     "data": {
      "text/plain": [
       "numpy.ndarray"
      ]
     },
     "execution_count": 3,
     "metadata": {},
     "output_type": "execute_result"
    }
   ],
   "source": [
    "type(numpy_array)"
   ]
  },
  {
   "cell_type": "code",
   "execution_count": 4,
   "id": "0d0e4a19-7862-4c84-b4e3-f241c41c4de6",
   "metadata": {},
   "outputs": [
    {
     "data": {
      "text/plain": [
       "dtype('int32')"
      ]
     },
     "execution_count": 4,
     "metadata": {},
     "output_type": "execute_result"
    }
   ],
   "source": [
    "numpy_array.dtype"
   ]
  },
  {
   "cell_type": "code",
   "execution_count": 5,
   "id": "c362458a-ffb6-4da0-ae20-c7bf900388cb",
   "metadata": {},
   "outputs": [
    {
     "data": {
      "text/plain": [
       "6"
      ]
     },
     "execution_count": 5,
     "metadata": {},
     "output_type": "execute_result"
    }
   ],
   "source": [
    "numpy_array.size"
   ]
  },
  {
   "cell_type": "code",
   "execution_count": 6,
   "id": "b48d778d-3ec8-4b8c-a6df-8db9535b5190",
   "metadata": {},
   "outputs": [
    {
     "data": {
      "text/plain": [
       "1"
      ]
     },
     "execution_count": 6,
     "metadata": {},
     "output_type": "execute_result"
    }
   ],
   "source": [
    "numpy_array.ndim"
   ]
  },
  {
   "cell_type": "code",
   "execution_count": 7,
   "id": "f45683fe-b49b-4261-bc8d-6982a2232da7",
   "metadata": {},
   "outputs": [
    {
     "data": {
      "text/plain": [
       "(6,)"
      ]
     },
     "execution_count": 7,
     "metadata": {},
     "output_type": "execute_result"
    }
   ],
   "source": [
    "numpy_array.shape"
   ]
  },
  {
   "cell_type": "code",
   "execution_count": 8,
   "id": "8be24b41-d970-4b87-a009-eee0a8bef3d6",
   "metadata": {},
   "outputs": [
    {
     "data": {
      "text/plain": [
       "0"
      ]
     },
     "execution_count": 8,
     "metadata": {},
     "output_type": "execute_result"
    }
   ],
   "source": [
    "numpy_array[0]"
   ]
  },
  {
   "cell_type": "code",
   "execution_count": 9,
   "id": "17d1c7ce-b376-4b10-a936-a0d426961bb0",
   "metadata": {},
   "outputs": [
    {
     "data": {
      "text/plain": [
       "1"
      ]
     },
     "execution_count": 9,
     "metadata": {},
     "output_type": "execute_result"
    }
   ],
   "source": [
    "numpy_array[1]"
   ]
  },
  {
   "cell_type": "markdown",
   "id": "c3fbabc9-75be-4d06-8706-ae1d4280968a",
   "metadata": {},
   "source": [
    "**Slicing In Numpy Arrays**"
   ]
  },
  {
   "cell_type": "code",
   "execution_count": 10,
   "id": "704e76c5-1319-498f-a431-9046843f2b76",
   "metadata": {},
   "outputs": [
    {
     "name": "stdout",
     "output_type": "stream",
     "text": [
      "[1 2 3]\n"
     ]
    }
   ],
   "source": [
    "# From Index 1 to 4 1 included but index 4 is not included\n",
    "arr2 = numpy_array[1:4]\n",
    "print(arr2) "
   ]
  },
  {
   "cell_type": "code",
   "execution_count": 11,
   "id": "ac83c756-757c-49c9-8bac-bc731065d7e9",
   "metadata": {},
   "outputs": [
    {
     "data": {
      "text/plain": [
       "array([1, 2, 3, 4, 5])"
      ]
     },
     "execution_count": 11,
     "metadata": {},
     "output_type": "execute_result"
    }
   ],
   "source": [
    "# From index 1 to last\n",
    "arr3 = numpy_array[1:]\n",
    "arr3"
   ]
  },
  {
   "cell_type": "code",
   "execution_count": 12,
   "id": "20ef1b05-39f9-4109-9e81-609fe70d64a6",
   "metadata": {},
   "outputs": [
    {
     "data": {
      "text/plain": [
       "array([0, 1, 2, 3])"
      ]
     },
     "execution_count": 12,
     "metadata": {},
     "output_type": "execute_result"
    }
   ],
   "source": [
    "numpy_array[0:4]"
   ]
  },
  {
   "cell_type": "markdown",
   "id": "2e75fa37-d621-43dd-9282-63c1cc99ac1e",
   "metadata": {},
   "source": [
    "**Vector Addition and Subtraction**"
   ]
  },
  {
   "cell_type": "code",
   "execution_count": 13,
   "id": "fd3ba31a-b108-4136-ac72-102ae152d3e1",
   "metadata": {},
   "outputs": [],
   "source": [
    "u = [1,0]\n",
    "v = [1,0]\n",
    "z = []"
   ]
  },
  {
   "cell_type": "code",
   "execution_count": 14,
   "id": "f1c70e93-f4ff-49b1-88fa-2e9e2334d223",
   "metadata": {},
   "outputs": [],
   "source": [
    "# Using Simple Code \n",
    "for n,m in zip(u,v):\n",
    "    z.append(n+m)"
   ]
  },
  {
   "cell_type": "code",
   "execution_count": 15,
   "id": "694a07c7-b9cb-4771-9441-c8cf498d38e2",
   "metadata": {},
   "outputs": [
    {
     "data": {
      "text/plain": [
       "[2, 0]"
      ]
     },
     "execution_count": 15,
     "metadata": {},
     "output_type": "execute_result"
    }
   ],
   "source": [
    "z"
   ]
  },
  {
   "cell_type": "code",
   "execution_count": 17,
   "id": "a2d10faa-3fee-428b-b7d8-c1521b85ca95",
   "metadata": {},
   "outputs": [],
   "source": [
    "# Using Numpy \n",
    "u = np.array([1,0])\n",
    "v = np.array([0,1])"
   ]
  },
  {
   "cell_type": "code",
   "execution_count": 19,
   "id": "5d034235-3502-4362-92a8-e8642b88f5f1",
   "metadata": {},
   "outputs": [
    {
     "name": "stdout",
     "output_type": "stream",
     "text": [
      "[1 0]\n",
      "[0 1]\n"
     ]
    }
   ],
   "source": [
    "print(u)\n",
    "print(v)"
   ]
  },
  {
   "cell_type": "code",
   "execution_count": 20,
   "id": "e8bf8301-d7bd-4089-9935-aeda7131b51a",
   "metadata": {},
   "outputs": [],
   "source": [
    "z = u + v"
   ]
  },
  {
   "cell_type": "code",
   "execution_count": 22,
   "id": "a3eb0f00-9c71-4902-86a8-c0c539660c30",
   "metadata": {},
   "outputs": [
    {
     "name": "stdout",
     "output_type": "stream",
     "text": [
      "[1 1]\n"
     ]
    }
   ],
   "source": [
    "print(z)"
   ]
  },
  {
   "cell_type": "code",
   "execution_count": 23,
   "id": "aed65b85-a7fc-48cc-9816-cb773068ecf6",
   "metadata": {},
   "outputs": [],
   "source": [
    "z = u - v"
   ]
  },
  {
   "cell_type": "code",
   "execution_count": 24,
   "id": "e5b57ae8-0231-46dd-8387-9216ebdc5668",
   "metadata": {},
   "outputs": [
    {
     "data": {
      "text/plain": [
       "array([ 1, -1])"
      ]
     },
     "execution_count": 24,
     "metadata": {},
     "output_type": "execute_result"
    }
   ],
   "source": [
    "z"
   ]
  },
  {
   "cell_type": "markdown",
   "id": "dde73329-f4b9-415a-a39c-905b898fc7e3",
   "metadata": {},
   "source": [
    "**Vector Multiplication With Scalars**"
   ]
  },
  {
   "cell_type": "code",
   "execution_count": 28,
   "id": "6051f686-7a76-4d54-a907-0d6e24ec9860",
   "metadata": {},
   "outputs": [],
   "source": [
    "y = np.array([1,2])"
   ]
  },
  {
   "cell_type": "code",
   "execution_count": 29,
   "id": "90bf18d4-eabd-4e99-823a-106079fb8725",
   "metadata": {},
   "outputs": [
    {
     "data": {
      "text/plain": [
       "array([1, 2])"
      ]
     },
     "execution_count": 29,
     "metadata": {},
     "output_type": "execute_result"
    }
   ],
   "source": [
    "y"
   ]
  },
  {
   "cell_type": "code",
   "execution_count": 30,
   "id": "6719e878-3c82-4b04-a24e-a8e845ad6393",
   "metadata": {},
   "outputs": [],
   "source": [
    "z = 2*y"
   ]
  },
  {
   "cell_type": "code",
   "execution_count": 31,
   "id": "8a574017-6109-477e-9d76-d1bf8ca406b4",
   "metadata": {},
   "outputs": [
    {
     "data": {
      "text/plain": [
       "array([2, 4])"
      ]
     },
     "execution_count": 31,
     "metadata": {},
     "output_type": "execute_result"
    }
   ],
   "source": [
    "z"
   ]
  },
  {
   "cell_type": "markdown",
   "id": "831b3bb1-766c-41f8-b43f-518d8074a7b5",
   "metadata": {},
   "source": [
    "**Product of 2 Numpy Arrays**"
   ]
  },
  {
   "cell_type": "code",
   "execution_count": 34,
   "id": "bfa097bd-8491-46bb-b8fa-4fa094e4dc6f",
   "metadata": {},
   "outputs": [],
   "source": [
    "u = np.array([1,2])\n",
    "v = np.array([2,3])"
   ]
  },
  {
   "cell_type": "code",
   "execution_count": 35,
   "id": "5b5ae9eb-1c37-45f3-831e-163783ebb794",
   "metadata": {},
   "outputs": [],
   "source": [
    "z = u * v"
   ]
  },
  {
   "cell_type": "code",
   "execution_count": 36,
   "id": "8c458a74-7b9e-4b76-bd9a-cc9a40e3fe77",
   "metadata": {},
   "outputs": [
    {
     "data": {
      "text/plain": [
       "array([1, 2])"
      ]
     },
     "execution_count": 36,
     "metadata": {},
     "output_type": "execute_result"
    }
   ],
   "source": [
    "u"
   ]
  },
  {
   "cell_type": "code",
   "execution_count": 37,
   "id": "1a5e5372-b62e-41b3-8787-0bbcc33572d3",
   "metadata": {},
   "outputs": [
    {
     "data": {
      "text/plain": [
       "array([2, 3])"
      ]
     },
     "execution_count": 37,
     "metadata": {},
     "output_type": "execute_result"
    }
   ],
   "source": [
    "v"
   ]
  },
  {
   "cell_type": "code",
   "execution_count": 38,
   "id": "a7288260-ea43-466e-9d5d-52ad7e66ff4c",
   "metadata": {},
   "outputs": [
    {
     "data": {
      "text/plain": [
       "array([2, 6])"
      ]
     },
     "execution_count": 38,
     "metadata": {},
     "output_type": "execute_result"
    }
   ],
   "source": [
    "z"
   ]
  },
  {
   "cell_type": "markdown",
   "id": "0ef4c29a-b9ce-4da7-bb0a-60f1b82d2bf0",
   "metadata": {},
   "source": [
    "**Dot Product**"
   ]
  },
  {
   "cell_type": "code",
   "execution_count": 39,
   "id": "a097ba7d-aabc-44c9-a437-15590e2b3a85",
   "metadata": {},
   "outputs": [],
   "source": [
    "dot_product = np.dot(u,v)"
   ]
  },
  {
   "cell_type": "code",
   "execution_count": 40,
   "id": "b3f136bb-dc86-4942-8ec5-f3af071d7432",
   "metadata": {},
   "outputs": [
    {
     "data": {
      "text/plain": [
       "8"
      ]
     },
     "execution_count": 40,
     "metadata": {},
     "output_type": "execute_result"
    }
   ],
   "source": [
    "dot_product"
   ]
  },
  {
   "cell_type": "markdown",
   "id": "5f8ee558-e962-423c-82b9-73f9de760402",
   "metadata": {},
   "source": [
    "**Constant Addition to Numpy Arrays**"
   ]
  },
  {
   "cell_type": "code",
   "execution_count": 45,
   "id": "8729622b-8ea1-4474-822c-88ef68359d6b",
   "metadata": {},
   "outputs": [],
   "source": [
    "u = np.array([0,2,4,6,8,10,12,14,16,18,20])"
   ]
  },
  {
   "cell_type": "code",
   "execution_count": 46,
   "id": "607587ff-d478-4115-8dd3-1e2006418ec5",
   "metadata": {},
   "outputs": [
    {
     "data": {
      "text/plain": [
       "array([ 0,  2,  4,  6,  8, 10, 12, 14, 16, 18, 20])"
      ]
     },
     "execution_count": 46,
     "metadata": {},
     "output_type": "execute_result"
    }
   ],
   "source": [
    "u"
   ]
  },
  {
   "cell_type": "code",
   "execution_count": 47,
   "id": "a910ff83-00da-4651-ab26-1a35121a255c",
   "metadata": {},
   "outputs": [],
   "source": [
    "z = u + 1"
   ]
  },
  {
   "cell_type": "code",
   "execution_count": 48,
   "id": "03c26347-af5d-4c60-b567-fbc5afeadd3d",
   "metadata": {},
   "outputs": [
    {
     "data": {
      "text/plain": [
       "array([ 1,  3,  5,  7,  9, 11, 13, 15, 17, 19, 21])"
      ]
     },
     "execution_count": 48,
     "metadata": {},
     "output_type": "execute_result"
    }
   ],
   "source": [
    "z"
   ]
  },
  {
   "cell_type": "markdown",
   "id": "25aaae36-9b3b-4322-a4fa-b62c1dd4093f",
   "metadata": {},
   "source": [
    "**Universal Functions In Numpy**"
   ]
  },
  {
   "cell_type": "code",
   "execution_count": 50,
   "id": "d3bc3ebe-c454-46a3-9fef-8abc64bd5465",
   "metadata": {},
   "outputs": [
    {
     "data": {
      "text/plain": [
       "11.0"
      ]
     },
     "execution_count": 50,
     "metadata": {},
     "output_type": "execute_result"
    }
   ],
   "source": [
    "z.mean()"
   ]
  },
  {
   "cell_type": "code",
   "execution_count": 51,
   "id": "a6d92a3f-1ef3-4ff9-9a89-b24a661b26ff",
   "metadata": {},
   "outputs": [
    {
     "data": {
      "text/plain": [
       "21"
      ]
     },
     "execution_count": 51,
     "metadata": {},
     "output_type": "execute_result"
    }
   ],
   "source": [
    "z.max()"
   ]
  },
  {
   "cell_type": "code",
   "execution_count": 52,
   "id": "c1019fa9-d835-4b8d-a586-277ab3526ac6",
   "metadata": {},
   "outputs": [
    {
     "data": {
      "text/plain": [
       "3.141592653589793"
      ]
     },
     "execution_count": 52,
     "metadata": {},
     "output_type": "execute_result"
    }
   ],
   "source": [
    "np.pi"
   ]
  },
  {
   "cell_type": "markdown",
   "id": "b18efd45-1abf-4c27-9443-9fc4be02413b",
   "metadata": {},
   "source": [
    "**Maping Numpy Arrays**"
   ]
  },
  {
   "cell_type": "code",
   "execution_count": 53,
   "id": "3f669e73-238f-44b8-8ed9-b530754290ec",
   "metadata": {},
   "outputs": [],
   "source": [
    "x = np.array([0,np.pi/2,np.pi])"
   ]
  },
  {
   "cell_type": "code",
   "execution_count": 54,
   "id": "79cc9591-53cf-4ac2-8fd0-3c1801200d1d",
   "metadata": {},
   "outputs": [
    {
     "data": {
      "text/plain": [
       "array([0.        , 1.57079633, 3.14159265])"
      ]
     },
     "execution_count": 54,
     "metadata": {},
     "output_type": "execute_result"
    }
   ],
   "source": [
    "x"
   ]
  },
  {
   "cell_type": "code",
   "execution_count": 55,
   "id": "4d09c0dc-7191-49ed-8cd9-c9220039a0f7",
   "metadata": {},
   "outputs": [],
   "source": [
    "y = np.sin(x)"
   ]
  },
  {
   "cell_type": "code",
   "execution_count": 56,
   "id": "d93ff587-e492-4403-b2ae-9866db7b972f",
   "metadata": {},
   "outputs": [
    {
     "data": {
      "text/plain": [
       "array([0.0000000e+00, 1.0000000e+00, 1.2246468e-16])"
      ]
     },
     "execution_count": 56,
     "metadata": {},
     "output_type": "execute_result"
    }
   ],
   "source": [
    "y"
   ]
  },
  {
   "cell_type": "code",
   "execution_count": 57,
   "id": "2e5ef141-c3bc-4cfb-8d25-69dffa3be23f",
   "metadata": {},
   "outputs": [
    {
     "data": {
      "text/plain": [
       "array([-2., -1.,  0.,  1.,  2.])"
      ]
     },
     "execution_count": 57,
     "metadata": {},
     "output_type": "execute_result"
    }
   ],
   "source": [
    "np.linspace(-2,2,num=5)"
   ]
  },
  {
   "cell_type": "code",
   "execution_count": 58,
   "id": "6e6c4155-a267-41bf-879d-ba475b586594",
   "metadata": {},
   "outputs": [
    {
     "data": {
      "text/plain": [
       "array([-2.        , -1.55555556, -1.11111111, -0.66666667, -0.22222222,\n",
       "        0.22222222,  0.66666667,  1.11111111,  1.55555556,  2.        ])"
      ]
     },
     "execution_count": 58,
     "metadata": {},
     "output_type": "execute_result"
    }
   ],
   "source": [
    "np.linspace(-2,2,num=10)"
   ]
  },
  {
   "cell_type": "code",
   "execution_count": 59,
   "id": "a2afbc63-143d-4e08-8bb9-d52950b83b53",
   "metadata": {},
   "outputs": [
    {
     "data": {
      "text/plain": [
       "array([-2.        , -1.78947368, -1.57894737, -1.36842105, -1.15789474,\n",
       "       -0.94736842, -0.73684211, -0.52631579, -0.31578947, -0.10526316,\n",
       "        0.10526316,  0.31578947,  0.52631579,  0.73684211,  0.94736842,\n",
       "        1.15789474,  1.36842105,  1.57894737,  1.78947368,  2.        ])"
      ]
     },
     "execution_count": 59,
     "metadata": {},
     "output_type": "execute_result"
    }
   ],
   "source": [
    "np.linspace(-2,2,num=20)"
   ]
  },
  {
   "cell_type": "code",
   "execution_count": 60,
   "id": "94be97de-4517-41ad-900b-ce0fb3b09b5b",
   "metadata": {},
   "outputs": [],
   "source": [
    "x = np.linspace(0,2*np.pi,100)"
   ]
  },
  {
   "cell_type": "code",
   "execution_count": 63,
   "id": "2aaced21-69a4-4ef9-9485-12bc734e330c",
   "metadata": {},
   "outputs": [
    {
     "data": {
      "text/plain": [
       "array([0.        , 0.06346652, 0.12693304, 0.19039955, 0.25386607,\n",
       "       0.31733259, 0.38079911, 0.44426563, 0.50773215, 0.57119866,\n",
       "       0.63466518, 0.6981317 , 0.76159822, 0.82506474, 0.88853126,\n",
       "       0.95199777, 1.01546429, 1.07893081, 1.14239733, 1.20586385,\n",
       "       1.26933037, 1.33279688, 1.3962634 , 1.45972992, 1.52319644,\n",
       "       1.58666296, 1.65012947, 1.71359599, 1.77706251, 1.84052903,\n",
       "       1.90399555, 1.96746207, 2.03092858, 2.0943951 , 2.15786162,\n",
       "       2.22132814, 2.28479466, 2.34826118, 2.41172769, 2.47519421,\n",
       "       2.53866073, 2.60212725, 2.66559377, 2.72906028, 2.7925268 ,\n",
       "       2.85599332, 2.91945984, 2.98292636, 3.04639288, 3.10985939,\n",
       "       3.17332591, 3.23679243, 3.30025895, 3.36372547, 3.42719199,\n",
       "       3.4906585 , 3.55412502, 3.61759154, 3.68105806, 3.74452458,\n",
       "       3.8079911 , 3.87145761, 3.93492413, 3.99839065, 4.06185717,\n",
       "       4.12532369, 4.1887902 , 4.25225672, 4.31572324, 4.37918976,\n",
       "       4.44265628, 4.5061228 , 4.56958931, 4.63305583, 4.69652235,\n",
       "       4.75998887, 4.82345539, 4.88692191, 4.95038842, 5.01385494,\n",
       "       5.07732146, 5.14078798, 5.2042545 , 5.26772102, 5.33118753,\n",
       "       5.39465405, 5.45812057, 5.52158709, 5.58505361, 5.64852012,\n",
       "       5.71198664, 5.77545316, 5.83891968, 5.9023862 , 5.96585272,\n",
       "       6.02931923, 6.09278575, 6.15625227, 6.21971879, 6.28318531])"
      ]
     },
     "execution_count": 63,
     "metadata": {},
     "output_type": "execute_result"
    }
   ],
   "source": [
    "x"
   ]
  },
  {
   "cell_type": "code",
   "execution_count": 64,
   "id": "900b9001-f639-4045-beab-8ef2bf533380",
   "metadata": {},
   "outputs": [],
   "source": [
    "y = np.sin(x)"
   ]
  },
  {
   "cell_type": "code",
   "execution_count": 65,
   "id": "ec0ec0f1-cd82-4d70-b574-01f6cfbe8af7",
   "metadata": {},
   "outputs": [
    {
     "data": {
      "text/plain": [
       "array([ 0.00000000e+00,  6.34239197e-02,  1.26592454e-01,  1.89251244e-01,\n",
       "        2.51147987e-01,  3.12033446e-01,  3.71662456e-01,  4.29794912e-01,\n",
       "        4.86196736e-01,  5.40640817e-01,  5.92907929e-01,  6.42787610e-01,\n",
       "        6.90079011e-01,  7.34591709e-01,  7.76146464e-01,  8.14575952e-01,\n",
       "        8.49725430e-01,  8.81453363e-01,  9.09631995e-01,  9.34147860e-01,\n",
       "        9.54902241e-01,  9.71811568e-01,  9.84807753e-01,  9.93838464e-01,\n",
       "        9.98867339e-01,  9.99874128e-01,  9.96854776e-01,  9.89821442e-01,\n",
       "        9.78802446e-01,  9.63842159e-01,  9.45000819e-01,  9.22354294e-01,\n",
       "        8.95993774e-01,  8.66025404e-01,  8.32569855e-01,  7.95761841e-01,\n",
       "        7.55749574e-01,  7.12694171e-01,  6.66769001e-01,  6.18158986e-01,\n",
       "        5.67059864e-01,  5.13677392e-01,  4.58226522e-01,  4.00930535e-01,\n",
       "        3.42020143e-01,  2.81732557e-01,  2.20310533e-01,  1.58001396e-01,\n",
       "        9.50560433e-02,  3.17279335e-02, -3.17279335e-02, -9.50560433e-02,\n",
       "       -1.58001396e-01, -2.20310533e-01, -2.81732557e-01, -3.42020143e-01,\n",
       "       -4.00930535e-01, -4.58226522e-01, -5.13677392e-01, -5.67059864e-01,\n",
       "       -6.18158986e-01, -6.66769001e-01, -7.12694171e-01, -7.55749574e-01,\n",
       "       -7.95761841e-01, -8.32569855e-01, -8.66025404e-01, -8.95993774e-01,\n",
       "       -9.22354294e-01, -9.45000819e-01, -9.63842159e-01, -9.78802446e-01,\n",
       "       -9.89821442e-01, -9.96854776e-01, -9.99874128e-01, -9.98867339e-01,\n",
       "       -9.93838464e-01, -9.84807753e-01, -9.71811568e-01, -9.54902241e-01,\n",
       "       -9.34147860e-01, -9.09631995e-01, -8.81453363e-01, -8.49725430e-01,\n",
       "       -8.14575952e-01, -7.76146464e-01, -7.34591709e-01, -6.90079011e-01,\n",
       "       -6.42787610e-01, -5.92907929e-01, -5.40640817e-01, -4.86196736e-01,\n",
       "       -4.29794912e-01, -3.71662456e-01, -3.12033446e-01, -2.51147987e-01,\n",
       "       -1.89251244e-01, -1.26592454e-01, -6.34239197e-02, -2.44929360e-16])"
      ]
     },
     "execution_count": 65,
     "metadata": {},
     "output_type": "execute_result"
    }
   ],
   "source": [
    "y"
   ]
  },
  {
   "cell_type": "code",
   "execution_count": 66,
   "id": "d94b0160-05b8-49a8-b59e-d9f4cd08a606",
   "metadata": {},
   "outputs": [],
   "source": [
    "import matplotlib.pyplot as plt"
   ]
  },
  {
   "cell_type": "code",
   "execution_count": 74,
   "id": "397e4a34-1a78-4a4d-b029-35ef310a2e7f",
   "metadata": {},
   "outputs": [
    {
     "data": {
      "image/png": "[encoded data removed]",
      "text/plain": [
       "<Figure size 640x480 with 1 Axes>"
      ]
     },
     "metadata": {},
     "output_type": "display_data"
    }
   ],
   "source": [
    "plt.plot(x,y,'g')\n",
    "plt.title(\"Ploting x and y in sin function\")\n",
    "plt.xlabel(\"x-axis values total length = 100 between 0 and 2pi\")\n",
    "plt.ylabel(\"y-axis values sin(x)\")\n",
    "plt.show()"
   ]
  },
  {
   "cell_type": "markdown",
   "id": "f9f12fe5-ca1b-45bd-8eef-96e762fcd98e",
   "metadata": {},
   "source": [
    "***<h1><u style='color:yellow'>Numerical Python ( Numpy Basics 2-Dimensional )</u></h1>***"
   ]
  },
  {
   "cell_type": "code",
   "execution_count": 75,
   "id": "9ed10857-d2f6-4c9d-9e19-377b0e5c73ca",
   "metadata": {},
   "outputs": [],
   "source": [
    "matrix_A = np.array([[11,12,13],[21,22,23],[31,32,33]])"
   ]
  },
  {
   "cell_type": "code",
   "execution_count": 76,
   "id": "2fb2e1fd-6f40-4458-aa2b-ebd98d3a1ce3",
   "metadata": {},
   "outputs": [
    {
     "data": {
      "text/plain": [
       "array([[11, 12, 13],\n",
       "       [21, 22, 23],\n",
       "       [31, 32, 33]])"
      ]
     },
     "execution_count": 76,
     "metadata": {},
     "output_type": "execute_result"
    }
   ],
   "source": [
    "matrix_A"
   ]
  },
  {
   "cell_type": "code",
   "execution_count": 78,
   "id": "94d88af7-48a0-4d49-9cd6-8ecb403d9a07",
   "metadata": {},
   "outputs": [
    {
     "data": {
      "text/plain": [
       "2"
      ]
     },
     "execution_count": 78,
     "metadata": {},
     "output_type": "execute_result"
    }
   ],
   "source": [
    "matrix_A.ndim"
   ]
  },
  {
   "cell_type": "code",
   "execution_count": 79,
   "id": "657c006a-2069-44f5-be63-c150d8517ca0",
   "metadata": {},
   "outputs": [
    {
     "data": {
      "text/plain": [
       "9"
      ]
     },
     "execution_count": 79,
     "metadata": {},
     "output_type": "execute_result"
    }
   ],
   "source": [
    "matrix_A.size"
   ]
  },
  {
   "cell_type": "code",
   "execution_count": 80,
   "id": "d69a3e3b-56ad-4cb9-b041-e23de82e2b64",
   "metadata": {},
   "outputs": [
    {
     "data": {
      "text/plain": [
       "(3, 3)"
      ]
     },
     "execution_count": 80,
     "metadata": {},
     "output_type": "execute_result"
    }
   ],
   "source": [
    "matrix_A.shape"
   ]
  },
  {
   "cell_type": "code",
   "execution_count": 84,
   "id": "f7887628-f013-435f-99b5-a6f06b0fd674",
   "metadata": {},
   "outputs": [
    {
     "data": {
      "text/plain": [
       "23"
      ]
     },
     "execution_count": 84,
     "metadata": {},
     "output_type": "execute_result"
    }
   ],
   "source": [
    "# [row,column] Row 2 and col 3 Below\n",
    "matrix_A[1,2]"
   ]
  },
  {
   "cell_type": "code",
   "execution_count": 85,
   "id": "1c08ddfb-3db7-455c-b3c6-23f79eb53c7c",
   "metadata": {},
   "outputs": [
    {
     "data": {
      "text/plain": [
       "array([31, 32])"
      ]
     },
     "execution_count": 85,
     "metadata": {},
     "output_type": "execute_result"
    }
   ],
   "source": [
    "# Row 3 And Slicing in row 3\n",
    "matrix_A[2,0:2]"
   ]
  },
  {
   "cell_type": "code",
   "execution_count": 86,
   "id": "9bbe2c1f-f470-424c-ab8c-76e481f470f1",
   "metadata": {},
   "outputs": [
    {
     "data": {
      "text/plain": [
       "array([[21, 22, 23],\n",
       "       [31, 32, 33],\n",
       "       [41, 42, 43]])"
      ]
     },
     "execution_count": 86,
     "metadata": {},
     "output_type": "execute_result"
    }
   ],
   "source": [
    "matrix_A + 10"
   ]
  },
  {
   "cell_type": "code",
   "execution_count": 87,
   "id": "c67ee68f-91cb-4548-92ca-28f3616e3750",
   "metadata": {},
   "outputs": [
    {
     "data": {
      "text/plain": [
       "array([[11, 12, 13],\n",
       "       [21, 22, 23],\n",
       "       [31, 32, 33]])"
      ]
     },
     "execution_count": 87,
     "metadata": {},
     "output_type": "execute_result"
    }
   ],
   "source": [
    "matrix_A"
   ]
  },
  {
   "cell_type": "code",
   "execution_count": 88,
   "id": "fa76e629-e737-4c3b-a4d0-b04da46538ff",
   "metadata": {},
   "outputs": [
    {
     "data": {
      "text/plain": [
       "array([[ 1,  2,  3],\n",
       "       [11, 12, 13],\n",
       "       [21, 22, 23]])"
      ]
     },
     "execution_count": 88,
     "metadata": {},
     "output_type": "execute_result"
    }
   ],
   "source": [
    "matrix_A - 10"
   ]
  },
  {
   "cell_type": "code",
   "execution_count": 89,
   "id": "b95ec6ae-9d31-430c-b496-578ddf5014af",
   "metadata": {},
   "outputs": [],
   "source": [
    "matrix_B = matrix_A * 2"
   ]
  },
  {
   "cell_type": "code",
   "execution_count": 91,
   "id": "c2c39387-41b3-41e1-95a7-b780adb834c0",
   "metadata": {},
   "outputs": [
    {
     "data": {
      "text/plain": [
       "array([[22, 24, 26],\n",
       "       [42, 44, 46],\n",
       "       [62, 64, 66]])"
      ]
     },
     "execution_count": 91,
     "metadata": {},
     "output_type": "execute_result"
    }
   ],
   "source": [
    "matrix_B"
   ]
  },
  {
   "cell_type": "code",
   "execution_count": 92,
   "id": "3d1b3589-5ea8-4a86-832a-f39c4cd2892b",
   "metadata": {},
   "outputs": [],
   "source": [
    "matrix_sum = matrix_A + matrix_B"
   ]
  },
  {
   "cell_type": "code",
   "execution_count": 93,
   "id": "5e9c15a1-a604-4421-bb04-65abe899a358",
   "metadata": {},
   "outputs": [
    {
     "data": {
      "text/plain": [
       "array([[33, 36, 39],\n",
       "       [63, 66, 69],\n",
       "       [93, 96, 99]])"
      ]
     },
     "execution_count": 93,
     "metadata": {},
     "output_type": "execute_result"
    }
   ],
   "source": [
    "matrix_sum"
   ]
  },
  {
   "cell_type": "code",
   "execution_count": 94,
   "id": "b21761c4-263f-437b-9aea-b1610411a256",
   "metadata": {},
   "outputs": [],
   "source": [
    "matrix_product = np.dot(matrix_A,matrix_B)"
   ]
  },
  {
   "cell_type": "code",
   "execution_count": 96,
   "id": "44a1d30f-c746-438d-bbf5-fc3ce9411959",
   "metadata": {},
   "outputs": [
    {
     "data": {
      "text/plain": [
       "array([[1552, 1624, 1696],\n",
       "       [2812, 2944, 3076],\n",
       "       [4072, 4264, 4456]])"
      ]
     },
     "execution_count": 96,
     "metadata": {},
     "output_type": "execute_result"
    }
   ],
   "source": [
    "matrix_product"
   ]
  },
  {
   "cell_type": "code",
   "execution_count": 97,
   "id": "e3d016c3-77e3-49df-ac43-494a3d4395f4",
   "metadata": {},
   "outputs": [],
   "source": [
    "square_root = np.sqrt(matrix_product)"
   ]
  },
  {
   "cell_type": "code",
   "execution_count": 98,
   "id": "9a8fd52e-4340-4999-9566-b2987527af9f",
   "metadata": {},
   "outputs": [
    {
     "data": {
      "text/plain": [
       "array([[39.39543121, 40.29888336, 41.18252056],\n",
       "       [53.02829433, 54.25863987, 55.4616985 ],\n",
       "       [63.81222453, 65.29931087, 66.75327707]])"
      ]
     },
     "execution_count": 98,
     "metadata": {},
     "output_type": "execute_result"
    }
   ],
   "source": [
    "square_root"
   ]
  },
  {
   "cell_type": "code",
   "execution_count": 101,
   "id": "d4648388-2177-4c41-b908-04897a240aeb",
   "metadata": {},
   "outputs": [
    {
     "data": {
      "text/plain": [
       "479.49028030160173"
      ]
     },
     "execution_count": 101,
     "metadata": {},
     "output_type": "execute_result"
    }
   ],
   "source": [
    "np.sum(square_root)"
   ]
  },
  {
   "cell_type": "code",
   "execution_count": 103,
   "id": "a94c6e6d-cd9b-4bb6-949f-1a96e33d1a81",
   "metadata": {},
   "outputs": [
    {
     "data": {
      "text/plain": [
       "479.4903"
      ]
     },
     "execution_count": 103,
     "metadata": {},
     "output_type": "execute_result"
    }
   ],
   "source": [
    "round(np.sum(square_root),4)"
   ]
  },
  {
   "cell_type": "code",
   "execution_count": 108,
   "id": "953fa33a-1138-40a8-abf2-5ac44aeca60b",
   "metadata": {},
   "outputs": [],
   "source": [
    "matrix = np.array([[1,2,3],[4,5,6]])"
   ]
  },
  {
   "cell_type": "code",
   "execution_count": 109,
   "id": "22eeb29b-8365-4443-bb6c-6936cb00ccbd",
   "metadata": {},
   "outputs": [
    {
     "data": {
      "text/plain": [
       "array([[1, 2, 3],\n",
       "       [4, 5, 6]])"
      ]
     },
     "execution_count": 109,
     "metadata": {},
     "output_type": "execute_result"
    }
   ],
   "source": [
    "matrix"
   ]
  },
  {
   "cell_type": "code",
   "execution_count": 110,
   "id": "ea96474e-de0d-4b98-81ee-277f1c382253",
   "metadata": {},
   "outputs": [],
   "source": [
    "reshape_matrix = matrix.reshape(3,2)"
   ]
  },
  {
   "cell_type": "code",
   "execution_count": 111,
   "id": "5d812cf0-673a-4195-958d-25c3385c39ca",
   "metadata": {},
   "outputs": [
    {
     "data": {
      "text/plain": [
       "array([[1, 2],\n",
       "       [3, 4],\n",
       "       [5, 6]])"
      ]
     },
     "execution_count": 111,
     "metadata": {},
     "output_type": "execute_result"
    }
   ],
   "source": [
    "reshape_matrix"
   ]
  },
  {
   "cell_type": "code",
   "execution_count": 112,
   "id": "3b6d2978-3995-4d14-8f47-5d1a77435f1c",
   "metadata": {},
   "outputs": [],
   "source": [
    "transposed_matrix = matrix.T"
   ]
  },
  {
   "cell_type": "code",
   "execution_count": 113,
   "id": "6eebd7f5-194f-444e-8d9a-1f2b0c873b5f",
   "metadata": {},
   "outputs": [
    {
     "data": {
      "text/plain": [
       "array([[1, 4],\n",
       "       [2, 5],\n",
       "       [3, 6]])"
      ]
     },
     "execution_count": 113,
     "metadata": {},
     "output_type": "execute_result"
    }
   ],
   "source": [
    "transposed_matrix"
   ]
  },
  {
   "cell_type": "code",
   "execution_count": null,
   "id": "dc22725e-d975-42bd-9b9b-3ab83c79ddd0",
   "metadata": {},
   "outputs": [],
   "source": []
  }
 ],
 "metadata": {
  "kernelspec": {
   "display_name": "Python 3 (ipykernel)",
   "language": "python",
   "name": "python3"
  },
  "language_info": {
   "codemirror_mode": {
    "name": "ipython",
    "version": 3
   },
   "file_extension": ".py",
   "mimetype": "text/x-python",
   "name": "python",
   "nbconvert_exporter": "python",
   "pygments_lexer": "ipython3",
   "version": "3.12.4"
  }
 },
 "nbformat": 4,
 "nbformat_minor": 5
}
