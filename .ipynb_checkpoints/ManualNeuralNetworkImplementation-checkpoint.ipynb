{
 "cells": [
  {
   "cell_type": "markdown",
   "id": "1ba4bd93-9d04-4733-a57d-5562c6d4b563",
   "metadata": {},
   "source": [
    "<h1>Neural Networks Implementation (Manually)</h1>\n",
    "<ul>\n",
    "    <li>This notebook contains how a neural network can be implement using simple python and numpy without using TensorFlow and PyTorch.</li>\n",
    "    <li>Source: <b>Coursera</b></li>\n",
    "</ul>"
   ]
  },
  {
   "cell_type": "code",
   "execution_count": 3,
   "id": "4ade887b-5683-48df-8123-0f806cad0a7f",
   "metadata": {},
   "outputs": [],
   "source": [
    "import numpy as np\n",
    "# 2 X 3 Matrix Weight Layer 1\n",
    "import numpy as np\n",
    "\n",
    "# Input\n",
    "x = np.array([-2, 4])\n",
    "\n",
    "# Layer 1: 2 inputs → 3 outputs\n",
    "W1 = np.array([\n",
    "    [1, -3, 5],\n",
    "    [2,  4, -6]\n",
    "])\n",
    "b1 = np.array([-1, 1, 2])\n",
    "\n",
    "# Layer 2: 3 inputs → 4 outputs\n",
    "W2 = np.array([\n",
    "    [1, -3, 5, 4],\n",
    "    [2,  4, -6, 5],\n",
    "    [0,  1, 2, -1]\n",
    "])\n",
    "b2 = np.array([-1, 1, 3, 0])\n",
    "\n",
    "# Layer 3: 4 inputs → 5 outputs\n",
    "W3 = np.array([\n",
    "    [1, -3, 5,  4, 3],\n",
    "    [2,  4, -6, 5, 3],\n",
    "    [1,  1,  1, 1, 1],\n",
    "    [0,  2, -1, 3, 4]\n",
    "])\n",
    "b3 = np.array([-1, 4, 3, 2, 0])\n",
    "\n",
    "# Layer 4: 5 inputs → 1 output\n",
    "W4 = np.array([\n",
    "    [2],\n",
    "    [1],\n",
    "    [0],\n",
    "    [-1],\n",
    "    [3]\n",
    "])\n",
    "b4 = np.array([-1])"
   ]
  },
  {
   "cell_type": "code",
   "execution_count": 4,
   "id": "c6f89fb9-b3db-4d0e-88ad-5bb6baa0db8f",
   "metadata": {},
   "outputs": [],
   "source": [
    "def sigmoid(z):\n",
    "    return 1/(1+np.exp(-z))\n",
    "def dense(a_in,W,b):\n",
    "    units = W.shape[1]\n",
    "    a_out = np.zeros(units)\n",
    "    for j in range(units):\n",
    "        w = W[:,j]\n",
    "        z = np.dot(w,a_in) + b[j]\n",
    "        a_out[j] = sigmoid(z)\n",
    "    return a_out    \n",
    "def sequential(x):\n",
    "    a1 = dense(x,W1,b1)\n",
    "    a2 = dense(a1,W2,b2)\n",
    "    a3 = dense(a2,W3,b3)\n",
    "    a4 = dense(a3,W4,b4)\n",
    "    fx = a4\n",
    "    return fx    "
   ]
  },
  {
   "cell_type": "code",
   "execution_count": 6,
   "id": "a2938a3b-adc0-4789-8232-c6229a1da208",
   "metadata": {},
   "outputs": [
    {
     "name": "stdout",
     "output_type": "stream",
     "text": [
      "1\n"
     ]
    }
   ],
   "source": [
    "if sequential(x).item() > 0.5:\n",
    "    print(1)\n",
    "else:\n",
    "    print(0)"
   ]
  },
  {
   "cell_type": "code",
   "execution_count": null,
   "id": "69eac362-dc84-4d99-a15f-11084954a25c",
   "metadata": {},
   "outputs": [],
   "source": []
  }
 ],
 "metadata": {
  "kernelspec": {
   "display_name": "Python 3 (ipykernel)",
   "language": "python",
   "name": "python3"
  },
  "language_info": {
   "codemirror_mode": {
    "name": "ipython",
    "version": 3
   },
   "file_extension": ".py",
   "mimetype": "text/x-python",
   "name": "python",
   "nbconvert_exporter": "python",
   "pygments_lexer": "ipython3",
   "version": "3.12.4"
  }
 },
 "nbformat": 4,
 "nbformat_minor": 5
}
