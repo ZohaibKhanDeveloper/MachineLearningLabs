{
 "cells": [
  {
   "cell_type": "markdown",
   "id": "43a62685-587f-4b5e-9001-bae2c115fa9f",
   "metadata": {},
   "source": [
    "<h1 style='color:yellow;'><u><b><i>Pandas Basics</i></b></u></h1>\n",
    "<p>This notebook contains introduction to pandas that how to use pandas in reading and writting different files. This will also be helpful to read datasets in order to train Machine Learning Models. This is an Intro to Python Panads.        <b><i>- Zohaib khan</i></b></p>"
   ]
  },
  {
   "cell_type": "markdown",
   "id": "32eeef9a-b51d-4ed4-9448-554af2d8d946",
   "metadata": {},
   "source": [
    "<h2><b>Reading CSV(Comma Seperated Value) Files</b></h2>"
   ]
  },
  {
   "cell_type": "code",
   "execution_count": 1,
   "id": "140d23ae-ce28-4c3b-82d3-11b753195c57",
   "metadata": {},
   "outputs": [],
   "source": [
    "import pandas as pd"
   ]
  },
  {
   "cell_type": "code",
   "execution_count": 5,
   "id": "f889fba6-3e31-4008-bd57-f493eb532cee",
   "metadata": {},
   "outputs": [],
   "source": [
    "csv_file_path = \"Data-Files/CS_Scholors_Reputation.csv\""
   ]
  },
  {
   "cell_type": "code",
   "execution_count": 6,
   "id": "b6cf7496-08bb-455b-977d-d9ddfe39bab0",
   "metadata": {},
   "outputs": [],
   "source": [
    "data_file = pd.read_csv(csv_file_path)"
   ]
  },
  {
   "cell_type": "code",
   "execution_count": 7,
   "id": "554f7337-6c38-4eac-9286-1f0f5b5ab22b",
   "metadata": {},
   "outputs": [
    {
     "data": {
      "text/html": [
       "<div>\n",
       "<style scoped>\n",
       "    .dataframe tbody tr th:only-of-type {\n",
       "        vertical-align: middle;\n",
       "    }\n",
       "\n",
       "    .dataframe tbody tr th {\n",
       "        vertical-align: top;\n",
       "    }\n",
       "\n",
       "    .dataframe thead th {\n",
       "        text-align: right;\n",
       "    }\n",
       "</style>\n",
       "<table border=\"1\" class=\"dataframe\">\n",
       "  <thead>\n",
       "    <tr style=\"text-align: right;\">\n",
       "      <th></th>\n",
       "      <th>Author names</th>\n",
       "      <th>All Citations</th>\n",
       "      <th>Citations since 2020</th>\n",
       "      <th>All h-index</th>\n",
       "      <th>h-index since 2020</th>\n",
       "      <th>All i10-index</th>\n",
       "      <th>i10-index since 2020</th>\n",
       "      <th>Reputation Score since 2020</th>\n",
       "      <th>Reputation Percentage</th>\n",
       "      <th>Profile Links</th>\n",
       "      <th>Research Field</th>\n",
       "    </tr>\n",
       "  </thead>\n",
       "  <tbody>\n",
       "    <tr>\n",
       "      <th>0</th>\n",
       "      <td>Jiawei Han</td>\n",
       "      <td>262906</td>\n",
       "      <td>71320</td>\n",
       "      <td>210</td>\n",
       "      <td>113</td>\n",
       "      <td>1085</td>\n",
       "      <td>674</td>\n",
       "      <td>271.42</td>\n",
       "      <td>54.284</td>\n",
       "      <td>https://scholar.google.com/citations?hl=en&amp;use...</td>\n",
       "      <td>Computer Science</td>\n",
       "    </tr>\n",
       "    <tr>\n",
       "      <th>1</th>\n",
       "      <td>Skander Gasmi</td>\n",
       "      <td>215766</td>\n",
       "      <td>202935</td>\n",
       "      <td>55</td>\n",
       "      <td>47</td>\n",
       "      <td>78</td>\n",
       "      <td>64</td>\n",
       "      <td>171.44</td>\n",
       "      <td>34.288</td>\n",
       "      <td>https://scholar.google.com/citations?hl=en&amp;use...</td>\n",
       "      <td>Computer Science</td>\n",
       "    </tr>\n",
       "    <tr>\n",
       "      <th>2</th>\n",
       "      <td>Philip S. Yu</td>\n",
       "      <td>215546</td>\n",
       "      <td>98329</td>\n",
       "      <td>203</td>\n",
       "      <td>131</td>\n",
       "      <td>1593</td>\n",
       "      <td>980</td>\n",
       "      <td>355.57</td>\n",
       "      <td>71.114</td>\n",
       "      <td>https://scholar.google.com/citations?hl=en&amp;use...</td>\n",
       "      <td>Computer Science</td>\n",
       "    </tr>\n",
       "    <tr>\n",
       "      <th>3</th>\n",
       "      <td>David S. Johnson</td>\n",
       "      <td>213524</td>\n",
       "      <td>36872</td>\n",
       "      <td>116</td>\n",
       "      <td>60</td>\n",
       "      <td>391</td>\n",
       "      <td>184</td>\n",
       "      <td>124.41</td>\n",
       "      <td>24.882</td>\n",
       "      <td>https://scholar.google.com/citations?hl=en&amp;use...</td>\n",
       "      <td>Computer Science</td>\n",
       "    </tr>\n",
       "    <tr>\n",
       "      <th>4</th>\n",
       "      <td>Jure Leskovec</td>\n",
       "      <td>188462</td>\n",
       "      <td>125259</td>\n",
       "      <td>156</td>\n",
       "      <td>130</td>\n",
       "      <td>380</td>\n",
       "      <td>346</td>\n",
       "      <td>240.38</td>\n",
       "      <td>48.076</td>\n",
       "      <td>https://scholar.google.com/citations?hl=en&amp;use...</td>\n",
       "      <td>Computer Science</td>\n",
       "    </tr>\n",
       "    <tr>\n",
       "      <th>...</th>\n",
       "      <td>...</td>\n",
       "      <td>...</td>\n",
       "      <td>...</td>\n",
       "      <td>...</td>\n",
       "      <td>...</td>\n",
       "      <td>...</td>\n",
       "      <td>...</td>\n",
       "      <td>...</td>\n",
       "      <td>...</td>\n",
       "      <td>...</td>\n",
       "      <td>...</td>\n",
       "    </tr>\n",
       "    <tr>\n",
       "      <th>495</th>\n",
       "      <td>Xifeng Yan</td>\n",
       "      <td>30164</td>\n",
       "      <td>10071</td>\n",
       "      <td>76</td>\n",
       "      <td>44</td>\n",
       "      <td>183</td>\n",
       "      <td>126</td>\n",
       "      <td>77.31</td>\n",
       "      <td>15.462</td>\n",
       "      <td>https://scholar.google.com/citations?hl=en&amp;use...</td>\n",
       "      <td>Computer Science</td>\n",
       "    </tr>\n",
       "    <tr>\n",
       "      <th>496</th>\n",
       "      <td>Charles A. Taylor</td>\n",
       "      <td>30164</td>\n",
       "      <td>12789</td>\n",
       "      <td>81</td>\n",
       "      <td>54</td>\n",
       "      <td>310</td>\n",
       "      <td>256</td>\n",
       "      <td>112.13</td>\n",
       "      <td>22.426</td>\n",
       "      <td>https://scholar.google.com/citations?hl=en&amp;use...</td>\n",
       "      <td>Computer Science</td>\n",
       "    </tr>\n",
       "    <tr>\n",
       "      <th>497</th>\n",
       "      <td>Paul Debevec</td>\n",
       "      <td>30140</td>\n",
       "      <td>9168</td>\n",
       "      <td>65</td>\n",
       "      <td>43</td>\n",
       "      <td>151</td>\n",
       "      <td>96</td>\n",
       "      <td>69.42</td>\n",
       "      <td>13.884</td>\n",
       "      <td>https://scholar.google.com/citations?hl=en&amp;use...</td>\n",
       "      <td>Computer Science</td>\n",
       "    </tr>\n",
       "    <tr>\n",
       "      <th>498</th>\n",
       "      <td>Haim J. Wolfson</td>\n",
       "      <td>30136</td>\n",
       "      <td>6100</td>\n",
       "      <td>83</td>\n",
       "      <td>31</td>\n",
       "      <td>173</td>\n",
       "      <td>75</td>\n",
       "      <td>53.93</td>\n",
       "      <td>10.786</td>\n",
       "      <td>https://scholar.google.com/citations?hl=en&amp;use...</td>\n",
       "      <td>Computer Science</td>\n",
       "    </tr>\n",
       "    <tr>\n",
       "      <th>499</th>\n",
       "      <td>Joshy George</td>\n",
       "      <td>30109</td>\n",
       "      <td>17809</td>\n",
       "      <td>68</td>\n",
       "      <td>52</td>\n",
       "      <td>101</td>\n",
       "      <td>97</td>\n",
       "      <td>85.44</td>\n",
       "      <td>17.088</td>\n",
       "      <td>https://scholar.google.com/citations?hl=en&amp;use...</td>\n",
       "      <td>Computer Science</td>\n",
       "    </tr>\n",
       "  </tbody>\n",
       "</table>\n",
       "<p>500 rows × 11 columns</p>\n",
       "</div>"
      ],
      "text/plain": [
       "          Author names  All Citations  Citations since 2020  All h-index  \\\n",
       "0           Jiawei Han         262906                 71320          210   \n",
       "1        Skander Gasmi         215766                202935           55   \n",
       "2         Philip S. Yu         215546                 98329          203   \n",
       "3     David S. Johnson         213524                 36872          116   \n",
       "4        Jure Leskovec         188462                125259          156   \n",
       "..                 ...            ...                   ...          ...   \n",
       "495         Xifeng Yan          30164                 10071           76   \n",
       "496  Charles A. Taylor          30164                 12789           81   \n",
       "497       Paul Debevec          30140                  9168           65   \n",
       "498    Haim J. Wolfson          30136                  6100           83   \n",
       "499       Joshy George          30109                 17809           68   \n",
       "\n",
       "     h-index since 2020  All i10-index  i10-index since 2020  \\\n",
       "0                   113           1085                   674   \n",
       "1                    47             78                    64   \n",
       "2                   131           1593                   980   \n",
       "3                    60            391                   184   \n",
       "4                   130            380                   346   \n",
       "..                  ...            ...                   ...   \n",
       "495                  44            183                   126   \n",
       "496                  54            310                   256   \n",
       "497                  43            151                    96   \n",
       "498                  31            173                    75   \n",
       "499                  52            101                    97   \n",
       "\n",
       "     Reputation Score since 2020  Reputation Percentage  \\\n",
       "0                         271.42                 54.284   \n",
       "1                         171.44                 34.288   \n",
       "2                         355.57                 71.114   \n",
       "3                         124.41                 24.882   \n",
       "4                         240.38                 48.076   \n",
       "..                           ...                    ...   \n",
       "495                        77.31                 15.462   \n",
       "496                       112.13                 22.426   \n",
       "497                        69.42                 13.884   \n",
       "498                        53.93                 10.786   \n",
       "499                        85.44                 17.088   \n",
       "\n",
       "                                         Profile Links    Research Field  \n",
       "0    https://scholar.google.com/citations?hl=en&use...  Computer Science  \n",
       "1    https://scholar.google.com/citations?hl=en&use...  Computer Science  \n",
       "2    https://scholar.google.com/citations?hl=en&use...  Computer Science  \n",
       "3    https://scholar.google.com/citations?hl=en&use...  Computer Science  \n",
       "4    https://scholar.google.com/citations?hl=en&use...  Computer Science  \n",
       "..                                                 ...               ...  \n",
       "495  https://scholar.google.com/citations?hl=en&use...  Computer Science  \n",
       "496  https://scholar.google.com/citations?hl=en&use...  Computer Science  \n",
       "497  https://scholar.google.com/citations?hl=en&use...  Computer Science  \n",
       "498  https://scholar.google.com/citations?hl=en&use...  Computer Science  \n",
       "499  https://scholar.google.com/citations?hl=en&use...  Computer Science  \n",
       "\n",
       "[500 rows x 11 columns]"
      ]
     },
     "execution_count": 7,
     "metadata": {},
     "output_type": "execute_result"
    }
   ],
   "source": [
    "data_file"
   ]
  },
  {
   "cell_type": "code",
   "execution_count": 8,
   "id": "c93d8e90-0928-4ce1-a97c-7e203da6c5ca",
   "metadata": {},
   "outputs": [
    {
     "data": {
      "text/html": [
       "<div>\n",
       "<style scoped>\n",
       "    .dataframe tbody tr th:only-of-type {\n",
       "        vertical-align: middle;\n",
       "    }\n",
       "\n",
       "    .dataframe tbody tr th {\n",
       "        vertical-align: top;\n",
       "    }\n",
       "\n",
       "    .dataframe thead th {\n",
       "        text-align: right;\n",
       "    }\n",
       "</style>\n",
       "<table border=\"1\" class=\"dataframe\">\n",
       "  <thead>\n",
       "    <tr style=\"text-align: right;\">\n",
       "      <th></th>\n",
       "      <th>Author names</th>\n",
       "      <th>All Citations</th>\n",
       "      <th>Citations since 2020</th>\n",
       "      <th>All h-index</th>\n",
       "      <th>h-index since 2020</th>\n",
       "      <th>All i10-index</th>\n",
       "      <th>i10-index since 2020</th>\n",
       "      <th>Reputation Score since 2020</th>\n",
       "      <th>Reputation Percentage</th>\n",
       "      <th>Profile Links</th>\n",
       "      <th>Research Field</th>\n",
       "    </tr>\n",
       "  </thead>\n",
       "  <tbody>\n",
       "    <tr>\n",
       "      <th>0</th>\n",
       "      <td>Jiawei Han</td>\n",
       "      <td>262906</td>\n",
       "      <td>71320</td>\n",
       "      <td>210</td>\n",
       "      <td>113</td>\n",
       "      <td>1085</td>\n",
       "      <td>674</td>\n",
       "      <td>271.42</td>\n",
       "      <td>54.284</td>\n",
       "      <td>https://scholar.google.com/citations?hl=en&amp;use...</td>\n",
       "      <td>Computer Science</td>\n",
       "    </tr>\n",
       "    <tr>\n",
       "      <th>1</th>\n",
       "      <td>Skander Gasmi</td>\n",
       "      <td>215766</td>\n",
       "      <td>202935</td>\n",
       "      <td>55</td>\n",
       "      <td>47</td>\n",
       "      <td>78</td>\n",
       "      <td>64</td>\n",
       "      <td>171.44</td>\n",
       "      <td>34.288</td>\n",
       "      <td>https://scholar.google.com/citations?hl=en&amp;use...</td>\n",
       "      <td>Computer Science</td>\n",
       "    </tr>\n",
       "    <tr>\n",
       "      <th>2</th>\n",
       "      <td>Philip S. Yu</td>\n",
       "      <td>215546</td>\n",
       "      <td>98329</td>\n",
       "      <td>203</td>\n",
       "      <td>131</td>\n",
       "      <td>1593</td>\n",
       "      <td>980</td>\n",
       "      <td>355.57</td>\n",
       "      <td>71.114</td>\n",
       "      <td>https://scholar.google.com/citations?hl=en&amp;use...</td>\n",
       "      <td>Computer Science</td>\n",
       "    </tr>\n",
       "    <tr>\n",
       "      <th>3</th>\n",
       "      <td>David S. Johnson</td>\n",
       "      <td>213524</td>\n",
       "      <td>36872</td>\n",
       "      <td>116</td>\n",
       "      <td>60</td>\n",
       "      <td>391</td>\n",
       "      <td>184</td>\n",
       "      <td>124.41</td>\n",
       "      <td>24.882</td>\n",
       "      <td>https://scholar.google.com/citations?hl=en&amp;use...</td>\n",
       "      <td>Computer Science</td>\n",
       "    </tr>\n",
       "    <tr>\n",
       "      <th>4</th>\n",
       "      <td>Jure Leskovec</td>\n",
       "      <td>188462</td>\n",
       "      <td>125259</td>\n",
       "      <td>156</td>\n",
       "      <td>130</td>\n",
       "      <td>380</td>\n",
       "      <td>346</td>\n",
       "      <td>240.38</td>\n",
       "      <td>48.076</td>\n",
       "      <td>https://scholar.google.com/citations?hl=en&amp;use...</td>\n",
       "      <td>Computer Science</td>\n",
       "    </tr>\n",
       "  </tbody>\n",
       "</table>\n",
       "</div>"
      ],
      "text/plain": [
       "       Author names  All Citations  Citations since 2020  All h-index  \\\n",
       "0        Jiawei Han         262906                 71320          210   \n",
       "1     Skander Gasmi         215766                202935           55   \n",
       "2      Philip S. Yu         215546                 98329          203   \n",
       "3  David S. Johnson         213524                 36872          116   \n",
       "4     Jure Leskovec         188462                125259          156   \n",
       "\n",
       "   h-index since 2020  All i10-index  i10-index since 2020  \\\n",
       "0                 113           1085                   674   \n",
       "1                  47             78                    64   \n",
       "2                 131           1593                   980   \n",
       "3                  60            391                   184   \n",
       "4                 130            380                   346   \n",
       "\n",
       "   Reputation Score since 2020  Reputation Percentage  \\\n",
       "0                       271.42                 54.284   \n",
       "1                       171.44                 34.288   \n",
       "2                       355.57                 71.114   \n",
       "3                       124.41                 24.882   \n",
       "4                       240.38                 48.076   \n",
       "\n",
       "                                       Profile Links    Research Field  \n",
       "0  https://scholar.google.com/citations?hl=en&use...  Computer Science  \n",
       "1  https://scholar.google.com/citations?hl=en&use...  Computer Science  \n",
       "2  https://scholar.google.com/citations?hl=en&use...  Computer Science  \n",
       "3  https://scholar.google.com/citations?hl=en&use...  Computer Science  \n",
       "4  https://scholar.google.com/citations?hl=en&use...  Computer Science  "
      ]
     },
     "execution_count": 8,
     "metadata": {},
     "output_type": "execute_result"
    }
   ],
   "source": [
    "data_file.head()"
   ]
  },
  {
   "cell_type": "code",
   "execution_count": 9,
   "id": "f59f7ea7-390b-4716-9538-d1950428eb23",
   "metadata": {},
   "outputs": [
    {
     "data": {
      "text/plain": [
       "0             Jiawei Han\n",
       "1          Skander Gasmi\n",
       "2           Philip S. Yu\n",
       "3       David S. Johnson\n",
       "4          Jure Leskovec\n",
       "             ...        \n",
       "495           Xifeng Yan\n",
       "496    Charles A. Taylor\n",
       "497         Paul Debevec\n",
       "498      Haim J. Wolfson\n",
       "499         Joshy George\n",
       "Name: Author names, Length: 500, dtype: object"
      ]
     },
     "execution_count": 9,
     "metadata": {},
     "output_type": "execute_result"
    }
   ],
   "source": [
    "data_file[\"Author names\"]"
   ]
  },
  {
   "cell_type": "code",
   "execution_count": 11,
   "id": "ce3117e5-1c90-4018-adee-9bb1286a2f41",
   "metadata": {},
   "outputs": [],
   "source": [
    "name_list = data_file[\"Author names\"].tolist()"
   ]
  },
  {
   "cell_type": "code",
   "execution_count": 12,
   "id": "c8b9143e-d7d6-4e01-a7ca-f48fa4d8973a",
   "metadata": {},
   "outputs": [
    {
     "name": "stdout",
     "output_type": "stream",
     "text": [
      "['Jiawei Han', 'Skander Gasmi', 'Philip S. Yu', 'David S. Johnson', 'Jure Leskovec', 'William H. Press', 'Manolis Kellis', 'Scott Shenker', 'Olaf Ronneberger', 'MOHAMED SIRADJ ADDIN BELHATAB', 'Francisco Herrera', 'Ion Stoica', 'Ali Farhadi', 'Sebastian Thrun', 'mohammad taheri dorche abedi', 'Alexei A. Efros', 'Judea Pearl', 'Leonidas Guibas', 'Wei Wang', 'David Blei', 'Steven Robbins', 'Rob Fergus', 'Antonio Torralba', 'David Lowe', 'David S. Wishart', 'Ian H. Witten', 'David Patterson', 'Jeffrey Ullman', 'Deborah Estrin', 'Alexander C Berg', 'Jon Kleinberg', 'Alejandro Schaffer', 'Kai Li', 'Alan Yuille', 'Stuart Russell', 'chad hanna', 'Dawn Song', 'Wolfram Burgard', 'Ben Shneiderman', 'William T. Freeman', 'Wei Wang', 'Dan Boneh', 'Eibe Frank', 'Ben Langmead', 'Leon Chua', 'Andrew McCallum', 'Azmed Zweil', 'Allen Newell', 'Asif Chinwalla', 'Clint MacDonald', 'Nir Friedman', 'Mubarak Shah', 'Liang Chen', 'Scott Kirkpatrick', 'Minkoo Kim', 'Robert Tarjan', 'hector garcia-molina', 'Anders Krogh', 'Larry Davis', 'Manuel Proissl', 'Gary Bader', 'Alan Aspuru-Guzik', 'Dirk Helbing', 'Dan Jurafsky', 'Richard Zemel', 'Tao Yang', 'Nassir Navab', 'Michael Elad', 'Robert M. Haralick', 'David Wagner', 'Thorsten Joachims', 'Percy Liang', 'Daniela Rus', 'Stephen Wright', 'Sara Kiesler', 'Paul Hopkins', 'John Riedl', 'martin vetterli', 'Silvio Savarese', 'Gerard Salton (1927-1995)', 'Ali Javey', 'Yuhui Shi', 'Pascal Fua', 'Sangeeta N. Bhatia', 'Barry Boehm', 'Robert Morris', 'Lixia Zhang', 'Adrian Perrig', 'Shih-Fu Chang', 'Yi Ma (马毅)', 'Carlos A. Coello Coello', 'Jim Hendler', 'Alfred Aho', 'Demetri Terzopoulos', 'Mani Srivastava', 'Thomas Cormen', 'Kevin W. Bowyer', 'Eran Segal', 'Mihai Pop', 'David Karger', 'Jörg Sander', 'Andreas Geiger', 'Gilles Brassard', 'Mihir Bellare', 'Thomas L. Griffiths', 'Mark Horowitz', 'Jennifer Rexford', 'Shree Nayar', 'Eric Xing', 'Andrej Karpathy', 'Wangmeng Zuo', 'Andrew Tanenbaum', 'Enrique Herrera-Viedma', 'Erkki Oja', 'Thore Graepel', 'John Stankovic', 'Padhraic Smyth', 'Oded Goldreich', 'Anshul Kundaje', 'Daniel Cohen-Or', 'Taghi M. Khoshgoftaar', 'Thomas Dietterich', 'Roger M. Temam', 'Tomasz Fiutowski', 'Martin Ester', 'Atul J. Butte', 'Eamonn Keogh', 'Henning Schulzrinne', 'Yonina Eldar', 'H Sebastian Seung', 'Marc Pollefeys', 'Russell H. Taylor', 'Ian Horrocks', 'Erik Cambria', 'Jennifer Widom', 'James Taylor', 'Amit Sahai', 'Ramesh Govindan', 'Ben Raphael', 'Carlo Tomasi', 'Marc Levoy', 'Gene Cooperman', 'Kang G. Shin', 'Amin Bonyad', 'John Smith', 'Moni Naor', 'Pedro Domingos', 'Dimitris N. Metaxas', 'Edward A. LEE', 'Dana Ballard', 'Ramesh Jain', 'Hans-Peter Seidel', 'Michael R. Lyu', 'Ronald Graham', 'Berthold Horn', 'Stuart K. Card', 'Ming-Ming Cheng', 'Pheng Ann Heng', 'Laurent Itti', 'Lawrence Hall', 'Elisa Bertino', 'Patrick McDaniel', 'Hiroaki Kitano', 'Burkhard Rost', 'Ian Sommerville', 'William Gropp', 'Katia Sycara', 'Deborah L. McGuinness', 'Yair Weiss', 'Samir R. Das', 'David Kriegman', 'rodney brooks', 'Jie Wu', 'Schahram Dustdar', 'Rajeev Alur', 'Marc Baldo', 'Elham E Khoda', 'Peter Stone', 'Fredo Durand', 'Jose Carlos Ferreira Maia Neves', 'Ari Juels', 'Somesh Jha', 'Muhammad imran Khan, MIK', 'Maosong Sun', 'Michael D. Abramoff', 'Thomas Frauenheim', 'Azizi', 'Tim Cootes', 'Chris Taylor', 'Monica S. Lam', 'Kui Ren', 'Ruibang Luo', 'Stefan Savage', 'Barry Smith', 'Jian Yang', 'J.-S. Roger Jang', 'Su-In Lee', 'Shafi Goldwasser', 'Holger Schwenk', 'Michael Mitzenmacher', 'Jyh-Shing Roger Jang', 'Paul C. van Oorschot', 'Salvatore Stolfo', 'Zhuowen Tu', 'Douglas Schmidt', 'Wenke Lee', 'Srinivas Devadas', 'Steven Feiner', 'Mark Spong', 'Steven H. Low', 'Ran Canetti', 'Inderjit S. Dhillon', 'Rick Stevens', 'Carole Goble', 'Miron Livny', 'Joseph Halpern', 'David L. Dill', 'Albert Y. Zomaya', 'Steve Seitz', 'Manuela M. Veloso', 'Salvador García', 'Daniel Keim', 'Raymond Mooney', 'Thomas Hofmann', 'David Harel', 'Gerhard Weikum', 'Ingemar J. Cox', 'Andreas Krause', 'Hugues Hoppe', 'Stefan Roth', 'Lillian Lee', 'Arnold Smeulders', 'Maja J Matarić', 'ZHANG Yong-Wei', 'Paul Dourish', 'Thomas Bäck', 'Mahadev Satyanarayanan', 'Kannan Ramchandran', 'Kenneth Salisbury', 'Bernhard Pfahringer', 'Joan Bruna', 'Frank Leymann', 'David Blaauw', 'Rada Mihalcea', 'Simon Kasif', 'tomasz imielinski', 'Peter Belhumeur', 'Vineet Bafna', 'Dan Roth', 'song-chun zhu', 'Gregory Hager', 'Jeffrey A. Bilmes', 'Andrew Moore', 'Christopher Ré', 'Lada Adamic', 'Geoffrey Fox', 'Gregory Wornell', 'Saul A. Kripke', 'Piotr Indyk', 'Rachel Karchin', 'David Forsyth', 'Dirk Englund', 'Raj Jain', 'Jerome Feldman', 'Andrew Campbell', 'Qing Li', 'Jeannette M Wing', 'A. Stewart Fotheringham', 'David Wetherall', 'David Garlan', 'Stephanie Forrest', 'Christopher Potts', 'fan chung', 'Andrew Ortony', 'Sajal K. Das', 'Alex Arenas', 'Hanspeter Pfister', 'Minlie Huang', 'Kristen Grauman', 'Vipin Kumar', 'Laxmikant Kale', 'Xiaohui Xie', 'David Clark', 'Xiaofei He', 'Pedro G. Ferreira', 'Michael J Frank', 'William L Hamilton', 'Xilin Chen', 'Filippo Menczer', 'GEORGE VARGHESE', 'Jiliang Tang', 'Mihalis Yannakakis', 'Olvi Mangasarian', 'Robert C. Miller', 'Joseph E. Gonzalez', 'João Paulo Domingos Silva', 'Zhihua Zhang', 'Xavier Gonze', 'Shiguang Shan', 'Chris Watkins', 'Frank van Harmelen', 'Yiyu Yao (Y.Y. Yao, 姚一豫)', 'Yuri Boykov', 'satvender kumari', 'Jie Hu', 'Lior Wolf', 'Shy Genel', 'A Silberschatz', 'Ronald Fedkiw', 'Charles Elkan', 'Wenwu Zhu', 'Jan Mendling', 'Samy S. Abu-Naser', 'Matthias Nießner', 'ayman shuayb', 'Christian S. Jensen', 'Aaron Clauset', 'Jingsheng Jason Cong', 'Brian Curless', 'Eva Tardos', 'Sanjeev Arora', 'Arindam Banerjee', 'Jun Zhu', 'J F Nunamaker, Jr.', 'Dragomir Radev', 'Mengjie Zhang，FRSNZ, FEngNZ, FIEEE', 'Diego Calvanese', 'Jonathan Katz', 'Beifang Niu', 'Deng Cai', 'Ravi Ramamoorthi', 'Andrea Petrucci', 'Jason Rafe Miller', 'Franz Baader', 'J Chen', 'Grzegorz Rozenberg', 'Massoud Pedram', 'Stefano Soatto', 'Liang Lin', 'Vittorio Maniezzo', 'Ting Chen', 'Raouf Boutaba', 'Philip Levis', 'Roy Pea', 'Rongxing Lu', 'David Lo', 'Wang Xiaoge', 'Sylvia Ratnasamy', 'Allen Tannenbaum', 'Daniel C. Alexander', 'Ben Y. Zhao', 'Michal Irani', 'Hovav Shacham', 'Jose Meseguer', 'Tomas Lozano-Perez', 'Qinghua Hu', 'Ting Wang', 'Henry Kautz', 'David Sherrill', 'Gabor T. Herman', 'Russ Greiner', 'Juha Karjalainen', 'George Furnas', 'Klara Nahrstedt', 'Shimon Ullman', 'Roch Guerin', 'Xiaojin Zhu', 'Noam Nisan', 'A. Lee Swindlehurst', 'James M. Rehg', 'Claire Cardie', 'Per Christian Hansen', 'Mohammed J. Zaki', 'DeLiang Wang', 'Martin Styner', 'Margaret Martonosi', 'Bruce Donald', 'Ching Suen', 'Bhaskar Krishnamachari', 'Maurice Herlihy', 'Joelle Pineau', 'Rakesh Kumar Sharma', 'Charless Fowlkes', 'Albrecht Schmidt', 'Ioan Pop', 'Ramin Zabih', 'Jun Rekimoto', 'Xiaoming Li', 'Nikos Komodakis', 'Bo Peng', 'Nicolò Cesa-Bianchi', 'Tuomas Sandholm', 'John C Mitchell', 'Steven Skiena', 'Bart Selman', 'Saul Greenberg', 'Jeffrey Bokor ', 'Ivan Stojmenovic', 'M. Y. Hussaini', 'Martha Stone Palmer', 'Nadim Asif', 'Juan D. Tardós', 'L. Jay Guo', 'Matthew W. Hahn', 'Joacim Rocklöv', 'Dennis Sylvester', 'Jing-Dong J. Han', 'Jonathan Turner', 'Todd Austin', 'Jeff Fessler', 'Joachim Weickert', 'Nigel Shadbolt', 'Peter Szolovits', 'Orna Grumberg', 'Tian He', 'Bo Li', 'Weisi Lin', 'L. Darrell Whitley', 'Mark Crovella', 'Munindar P Singh', 'Dong Xie', 'Xiaohua Hu', 'Yang Liu', 'Zhihao Chen', 'Florian Tramèr', 'Vladimir Rokhlin', 'Ivan Damgård', 'Vinod Vaikuntanathan', 'James Landay', 'Michael Kearns', 'John Ousterhout', 'Andries Engelbrecht', 'Erhard Rahm', 'Tadayoshi Kohno', 'Henning Müller', 'K. K. Ramakrishnan', 'Wolfgang Maass', 'James Pustejovsky', 'Ron Shamir', 'Jan F. Prins', 'Luis Martínez', 'Gordon Plotkin', 'Tunca Dogan', 'Lise Getoor', 'Kathleen McKeown', 'Xia \"Ben\" Hu', 'Adam Smith', 'Victor Lesser', 'Junzhou Huang', 'Fei Wu', 'Zhiyong Fan', 'Ryszard S. Michalski', 'Cong Wang', 'Roy H Campbell', 'Keith Ross', 'James Glass', 'Yunhong Wang', 'Srdjan Capkun (Srđan Čapkun)', 'Maurizio Lenzerini', 'Kostas Daniilidis', 'Derek Hoiem', 'Jacob Taylor', 'Zhiyong Liu', 'Guoying Zhao', 'Michael Brudno', 'Nick Feamster', 'Dennis Shasha', 'Thomas Pock', 'Siu-Ming Yiu', 'Mohit Bansal', 'Andrew M Stuart', 'Vijay Vazirani', 'Yuguang \"Michael\" Fang, FAAAS, FACM, and FIEEE', 'Donna Slonim', 'Joachim Hornegger', 'Francesco Petruccione', 'Heng Huang', 'Tom Goldstein', 'Michael Fischer', 'Hajo A. Reijers', 'Tamara L Berg', 'Ming C. Wu', 'bo du', 'David Maier', 'Emo Todorov', 'Cyrus Shahabi', 'Joachim Stadel', 'Kobbi Nissim', 'Daniel Scharstein', 'Danny Dolev', 'Michael J. Carey', 'James T. Kwok', 'Joost-Pieter Katoen', 'Lukasz Kurgan', 'Emilio Ferrara', 'Xifeng Yan', 'Charles A. Taylor', 'Paul Debevec', 'Haim J. Wolfson', 'Joshy George']\n"
     ]
    }
   ],
   "source": [
    "print(name_list)"
   ]
  },
  {
   "cell_type": "code",
   "execution_count": 16,
   "id": "f10e1c9c-6579-4e17-a8f0-72d98563da53",
   "metadata": {},
   "outputs": [
    {
     "data": {
      "text/plain": [
       "0      54.284\n",
       "1      34.288\n",
       "2      71.114\n",
       "3      24.882\n",
       "4      48.076\n",
       "        ...  \n",
       "495    15.462\n",
       "496    22.426\n",
       "497    13.884\n",
       "498    10.786\n",
       "499    17.088\n",
       "Name: Reputation Percentage, Length: 500, dtype: float64"
      ]
     },
     "execution_count": 16,
     "metadata": {},
     "output_type": "execute_result"
    }
   ],
   "source": [
    "data_file[\"Reputation Percentage\"]"
   ]
  },
  {
   "cell_type": "code",
   "execution_count": 18,
   "id": "e386e4ea-5e0b-444c-9804-4c6255b54a36",
   "metadata": {},
   "outputs": [],
   "source": [
    "repu_percentage = data_file[\"Reputation Score since 2020\"].tolist()"
   ]
  },
  {
   "cell_type": "code",
   "execution_count": 20,
   "id": "cd761414-c566-4f8b-8419-0d3c13f99116",
   "metadata": {},
   "outputs": [
    {
     "name": "stdout",
     "output_type": "stream",
     "text": [
      "[271.42, 171.44, 355.57, 124.41, 240.38, 83.58, 215.53, 129.86, 158.24, 342.37, 268.81, 180.16, 181.1, 164.0, 186.62, 173.53, 150.41, 206.19, 460.94, 160.66, 124.29, 142.0, 200.08, 79.15, 202.21, 89.16, 122.46, 78.26, 88.6, 129.05, 142.36, 105.97, 133.95, 213.24, 137.36, 177.36, 202.62, 180.02, 124.58, 166.85, 372.39, 150.24, 95.18, 107.59, 131.95, 139.73, 121.45, 60.99, 71.07, 176.65, 104.86, 161.41, 302.91, 60.88, 177.14, 101.07, 72.44, 87.24, 143.73, 139.67, 148.51, 211.07, 136.35, 156.43, 137.0, 364.1, 248.05, 113.42, 58.57, 117.72, 97.44, 182.16, 204.82, 97.16, 92.6, 118.49, 77.2, 83.35, 173.66, 45.91, 160.94, 99.0, 144.77, 164.19, 81.14, 79.57, 80.76, 98.65, 132.35, 110.84, 136.79, 74.48, 53.39, 72.77, 99.39, 47.24, 110.41, 136.73, 94.36, 78.13, 82.89, 146.32, 78.2, 107.22, 159.98, 97.01, 109.66, 103.81, 179.58, 70.5, 178.34, 50.4, 188.76, 57.4, 112.72, 86.31, 90.66, 90.59, 126.31, 156.97, 146.42, 99.67, 82.85, 193.88, 92.61, 147.51, 126.4, 47.36, 183.77, 101.53, 169.08, 156.88, 83.24, 184.32, 55.67, 77.65, 107.13, 69.84, 104.74, 62.99, 75.3, 55.42, 100.37, 258.0, 63.37, 89.49, 79.59, 143.13, 88.26, 61.44, 82.46, 121.23, 147.88, 77.67, 55.31, 61.25, 144.46, 181.61, 89.72, 95.54, 127.41, 105.49, 82.52, 99.33, 55.79, 76.27, 79.67, 66.43, 73.26, 49.24, 65.59, 47.9, 144.9, 136.63, 78.34, 85.37, 207.86, 150.53, 121.09, 99.34, 101.02, 108.03, 293.96, 169.39, 109.29, 121.01, 202.94, 61.74, 54.9, 54.98, 140.11, 75.61, 80.74, 103.73, 173.79, 55.69, 101.98, 80.63, 83.64, 90.56, 53.74, 65.45, 91.23, 102.4, 55.68, 96.06, 95.82, 71.99, 70.99, 97.32, 87.26, 108.9, 86.92, 85.1, 52.22, 77.17, 59.42, 171.82, 86.07, 94.85, 103.62, 108.34, 89.59, 79.3, 54.55, 100.43, 60.51, 147.04, 62.64, 94.77, 59.15, 65.7, 93.0, 153.82, 74.96, 93.41, 73.31, 89.46, 75.77, 77.49, 100.72, 91.69, 115.11, 119.3, 55.08, 35.15, 55.11, 77.76, 138.61, 139.44, 121.0, 86.41, 74.78, 145.75, 65.55, 68.33, 57.9, 41.82, 84.2, 87.3, 75.57, 145.4, 67.13, 30.05, 82.69, 200.97, 62.93, 90.56, 63.27, 62.48, 67.13, 100.22, 74.24, 51.36, 111.61, 99.46, 125.24, 161.19, 121.44, 136.69, 62.13, 90.31, 51.81, 95.9, 66.3, 115.18, 93.08, 127.24, 100.13, 69.55, 140.99, 72.51, 68.8, 93.84, 131.2, 112.77, 91.13, 88.78, 131.7, 53.85, 51.4, 102.92, 53.96, 186.53, 66.46, 119.36, 109.34, 42.77, 64.77, 66.31, 127.51, 114.38, 187.03, 128.45, 75.44, 103.55, 74.47, 96.82, 69.87, 65.91, 95.74, 89.01, 143.94, 66.35, 101.45, 177.87, 64.53, 101.76, 80.08, 108.75, 109.49, 42.53, 64.64, 52.87, 164.17, 48.14, 97.05, 105.43, 150.37, 45.66, 162.65, 91.36, 59.16, 71.71, 140.4, 175.35, 63.11, 57.02, 72.73, 128.43, 74.88, 72.0, 63.09, 60.81, 76.43, 142.74, 92.82, 58.76, 88.61, 47.9, 88.28, 85.22, 35.46, 57.32, 48.2, 30.27, 83.62, 70.42, 92.42, 98.74, 91.62, 61.66, 68.79, 110.39, 124.14, 73.78, 45.55, 54.76, 77.79, 61.89, 113.08, 139.65, 73.33, 108.97, 107.88, 38.55, 76.55, 143.53, 78.03, 72.97, 75.61, 92.16, 60.68, 78.58, 57.81, 64.66, 73.94, 52.67, 52.22, 76.28, 171.04, 69.24, 98.09, 93.39, 105.51, 95.8, 146.54, 36.54, 45.84, 88.9, 57.28, 60.77, 95.09, 38.12, 79.08, 57.06, 137.09, 56.83, 45.05, 66.63, 52.32, 148.95, 114.76, 102.61, 94.34, 54.65, 82.89, 93.1, 77.96, 83.18, 43.96, 81.64, 60.3, 91.04, 114.11, 66.4, 80.16, 65.32, 70.94, 53.23, 113.91, 52.04, 64.62, 79.86, 80.76, 125.11, 80.84, 35.74, 131.58, 162.18, 108.52, 36.68, 91.84, 59.23, 50.73, 116.28, 97.18, 84.39, 43.83, 99.68, 71.0, 83.41, 181.12, 116.26, 76.88, 90.95, 59.49, 83.68, 82.52, 134.2, 102.62, 54.52, 82.41, 35.97, 89.68, 81.72, 142.98, 122.08, 40.92, 93.68, 73.48, 75.3, 160.23, 42.15, 77.46, 92.86, 67.37, 72.43, 41.5, 48.18, 43.79, 86.98, 80.05, 92.71, 113.78, 77.31, 112.13, 69.42, 53.93, 85.44]\n"
     ]
    }
   ],
   "source": [
    "print(repu_percentage)"
   ]
  },
  {
   "cell_type": "markdown",
   "id": "5cc73eae-c438-4022-aa59-e82b1f0fddef",
   "metadata": {},
   "source": [
    "<h2><b>Dataframes In Pandas</b></h2>"
   ]
  },
  {
   "cell_type": "code",
   "execution_count": 22,
   "id": "a9bf7cf1-62b7-4a78-999b-c38a5d03f8ee",
   "metadata": {},
   "outputs": [],
   "source": [
    "students_detail = {\n",
    "    \"Names\":[\"Zohaib khan\",\"Muhammad Ayaz\",\"Iman Khalid\",\"Ali Rehman\",\"Hifza Sethi\"],\n",
    "    \"Age\":[20,22,20,21,22],\n",
    "    \"CGPA (Cummulative Grades)\":[3.58,3.49,3.94,3.45,3.86],\n",
    "    \"Skills\":[\"Full Stack Web Developer\",\"Mern Stack Web Developer\",\"React Native Developer\",\"Full Stack Web Developer\",\"Mern Stack Web Developer\"]\n",
    "}"
   ]
  },
  {
   "cell_type": "code",
   "execution_count": 24,
   "id": "221e41c1-f8cf-4a98-8917-3129f7864b00",
   "metadata": {},
   "outputs": [
    {
     "name": "stdout",
     "output_type": "stream",
     "text": [
      "{'Names': ['Zohaib khan', 'Muhammad Ayaz', 'Iman Khalid', 'Ali Rehman', 'Hifza Sethi'], 'Age': [20, 22, 20, 21, 22], 'CGPA (Cummulative Grades)': [3.58, 3.49, 3.94, 3.45, 3.86], 'Skills': ['Full Stack Web Developer', 'Mern Stack Web Developer', 'React Native Developer', 'Full Stack Web Developer', 'Mern Stack Web Developer']}\n"
     ]
    }
   ],
   "source": [
    "print(students_detail)"
   ]
  },
  {
   "cell_type": "code",
   "execution_count": 25,
   "id": "148b8098-34f9-4a43-bc08-feb1bc6f2d1f",
   "metadata": {},
   "outputs": [
    {
     "data": {
      "text/plain": [
       "{'Names': ['Zohaib khan',\n",
       "  'Muhammad Ayaz',\n",
       "  'Iman Khalid',\n",
       "  'Ali Rehman',\n",
       "  'Hifza Sethi'],\n",
       " 'Age': [20, 22, 20, 21, 22],\n",
       " 'CGPA (Cummulative Grades)': [3.58, 3.49, 3.94, 3.45, 3.86],\n",
       " 'Skills': ['Full Stack Web Developer',\n",
       "  'Mern Stack Web Developer',\n",
       "  'React Native Developer',\n",
       "  'Full Stack Web Developer',\n",
       "  'Mern Stack Web Developer']}"
      ]
     },
     "execution_count": 25,
     "metadata": {},
     "output_type": "execute_result"
    }
   ],
   "source": [
    "students_detail"
   ]
  },
  {
   "cell_type": "code",
   "execution_count": 26,
   "id": "0b4540d6-982f-439c-af88-1bfad7e34e9d",
   "metadata": {},
   "outputs": [],
   "source": [
    "students_detail_dataframe = pd.DataFrame(students_detail)"
   ]
  },
  {
   "cell_type": "code",
   "execution_count": 27,
   "id": "8f3baea1-268d-43be-acdd-d3cf83c1225a",
   "metadata": {},
   "outputs": [
    {
     "data": {
      "text/html": [
       "<div>\n",
       "<style scoped>\n",
       "    .dataframe tbody tr th:only-of-type {\n",
       "        vertical-align: middle;\n",
       "    }\n",
       "\n",
       "    .dataframe tbody tr th {\n",
       "        vertical-align: top;\n",
       "    }\n",
       "\n",
       "    .dataframe thead th {\n",
       "        text-align: right;\n",
       "    }\n",
       "</style>\n",
       "<table border=\"1\" class=\"dataframe\">\n",
       "  <thead>\n",
       "    <tr style=\"text-align: right;\">\n",
       "      <th></th>\n",
       "      <th>Names</th>\n",
       "      <th>Age</th>\n",
       "      <th>CGPA (Cummulative Grades)</th>\n",
       "      <th>Skills</th>\n",
       "    </tr>\n",
       "  </thead>\n",
       "  <tbody>\n",
       "    <tr>\n",
       "      <th>0</th>\n",
       "      <td>Zohaib khan</td>\n",
       "      <td>20</td>\n",
       "      <td>3.58</td>\n",
       "      <td>Full Stack Web Developer</td>\n",
       "    </tr>\n",
       "    <tr>\n",
       "      <th>1</th>\n",
       "      <td>Muhammad Ayaz</td>\n",
       "      <td>22</td>\n",
       "      <td>3.49</td>\n",
       "      <td>Mern Stack Web Developer</td>\n",
       "    </tr>\n",
       "    <tr>\n",
       "      <th>2</th>\n",
       "      <td>Iman Khalid</td>\n",
       "      <td>20</td>\n",
       "      <td>3.94</td>\n",
       "      <td>React Native Developer</td>\n",
       "    </tr>\n",
       "    <tr>\n",
       "      <th>3</th>\n",
       "      <td>Ali Rehman</td>\n",
       "      <td>21</td>\n",
       "      <td>3.45</td>\n",
       "      <td>Full Stack Web Developer</td>\n",
       "    </tr>\n",
       "    <tr>\n",
       "      <th>4</th>\n",
       "      <td>Hifza Sethi</td>\n",
       "      <td>22</td>\n",
       "      <td>3.86</td>\n",
       "      <td>Mern Stack Web Developer</td>\n",
       "    </tr>\n",
       "  </tbody>\n",
       "</table>\n",
       "</div>"
      ],
      "text/plain": [
       "           Names  Age  CGPA (Cummulative Grades)                    Skills\n",
       "0    Zohaib khan   20                       3.58  Full Stack Web Developer\n",
       "1  Muhammad Ayaz   22                       3.49  Mern Stack Web Developer\n",
       "2    Iman Khalid   20                       3.94    React Native Developer\n",
       "3     Ali Rehman   21                       3.45  Full Stack Web Developer\n",
       "4    Hifza Sethi   22                       3.86  Mern Stack Web Developer"
      ]
     },
     "execution_count": 27,
     "metadata": {},
     "output_type": "execute_result"
    }
   ],
   "source": [
    "students_detail_dataframe"
   ]
  },
  {
   "cell_type": "markdown",
   "id": "433e953e-8e84-47fd-9c18-4fee6ff5dd3d",
   "metadata": {},
   "source": [
    "<h3><b>Accessing Unique Elements in Dataframes</b></h3>"
   ]
  },
  {
   "cell_type": "code",
   "execution_count": 29,
   "id": "44b0dd0f-b85a-41db-a1a4-897d60cac954",
   "metadata": {},
   "outputs": [
    {
     "data": {
      "text/plain": [
       "'Muhammad Ayaz'"
      ]
     },
     "execution_count": 29,
     "metadata": {},
     "output_type": "execute_result"
    }
   ],
   "source": [
    "# Row 2 column 1\n",
    "students_detail_dataframe.iloc[1,0]"
   ]
  },
  {
   "cell_type": "code",
   "execution_count": 30,
   "id": "eff56e86-1249-4d2c-9731-23b6da928fe7",
   "metadata": {},
   "outputs": [
    {
     "data": {
      "text/plain": [
       "'Zohaib khan'"
      ]
     },
     "execution_count": 30,
     "metadata": {},
     "output_type": "execute_result"
    }
   ],
   "source": [
    "# Row 1 column 1\n",
    "students_detail_dataframe.iloc[0,0]"
   ]
  },
  {
   "cell_type": "code",
   "execution_count": 31,
   "id": "f40b4ec1-184d-4140-b8a0-b51001e4445a",
   "metadata": {},
   "outputs": [
    {
     "name": "stdout",
     "output_type": "stream",
     "text": [
      "Iman Khalid React Native Developer\n"
     ]
    }
   ],
   "source": [
    "print(students_detail_dataframe.iloc[2,0],students_detail_dataframe.iloc[2,3])"
   ]
  },
  {
   "cell_type": "code",
   "execution_count": 32,
   "id": "acffc30d-bdf4-4698-ae2b-da19916b841a",
   "metadata": {},
   "outputs": [
    {
     "data": {
      "text/plain": [
       "'Zohaib khan'"
      ]
     },
     "execution_count": 32,
     "metadata": {},
     "output_type": "execute_result"
    }
   ],
   "source": [
    "students_detail_dataframe.loc[0,'Names']"
   ]
  },
  {
   "cell_type": "code",
   "execution_count": 33,
   "id": "5d9c5b83-98ec-4296-94e1-9b4115886f88",
   "metadata": {},
   "outputs": [
    {
     "data": {
      "text/plain": [
       "'Iman Khalid'"
      ]
     },
     "execution_count": 33,
     "metadata": {},
     "output_type": "execute_result"
    }
   ],
   "source": [
    "students_detail_dataframe.loc[2,'Names']"
   ]
  },
  {
   "cell_type": "code",
   "execution_count": 35,
   "id": "33660b42-3b98-4891-9db2-483c7660cd0a",
   "metadata": {},
   "outputs": [
    {
     "data": {
      "text/plain": [
       "Names                                     Zohaib khan\n",
       "Age                                                20\n",
       "CGPA (Cummulative Grades)                        3.58\n",
       "Skills                       Full Stack Web Developer\n",
       "Name: 0, dtype: object"
      ]
     },
     "execution_count": 35,
     "metadata": {},
     "output_type": "execute_result"
    }
   ],
   "source": [
    "students_detail_dataframe.iloc[0,0:]"
   ]
  },
  {
   "cell_type": "code",
   "execution_count": 37,
   "id": "a61b9cba-0211-4643-8ad4-0fc6cf4f33b1",
   "metadata": {},
   "outputs": [
    {
     "data": {
      "text/plain": [
       "'Mern Stack Web Developer'"
      ]
     },
     "execution_count": 37,
     "metadata": {},
     "output_type": "execute_result"
    }
   ],
   "source": [
    "students_detail_dataframe.loc[1,'Skills']"
   ]
  },
  {
   "cell_type": "code",
   "execution_count": 38,
   "id": "d4135582-064f-4693-942c-dad230806586",
   "metadata": {},
   "outputs": [],
   "source": [
    "students_detail_dataframe.index = ['a','b','c','d','e']"
   ]
  },
  {
   "cell_type": "code",
   "execution_count": 39,
   "id": "425ec7a1-41c5-4673-9a8c-e90302f759cd",
   "metadata": {},
   "outputs": [
    {
     "data": {
      "text/html": [
       "<div>\n",
       "<style scoped>\n",
       "    .dataframe tbody tr th:only-of-type {\n",
       "        vertical-align: middle;\n",
       "    }\n",
       "\n",
       "    .dataframe tbody tr th {\n",
       "        vertical-align: top;\n",
       "    }\n",
       "\n",
       "    .dataframe thead th {\n",
       "        text-align: right;\n",
       "    }\n",
       "</style>\n",
       "<table border=\"1\" class=\"dataframe\">\n",
       "  <thead>\n",
       "    <tr style=\"text-align: right;\">\n",
       "      <th></th>\n",
       "      <th>Names</th>\n",
       "      <th>Age</th>\n",
       "      <th>CGPA (Cummulative Grades)</th>\n",
       "      <th>Skills</th>\n",
       "    </tr>\n",
       "  </thead>\n",
       "  <tbody>\n",
       "    <tr>\n",
       "      <th>a</th>\n",
       "      <td>Zohaib khan</td>\n",
       "      <td>20</td>\n",
       "      <td>3.58</td>\n",
       "      <td>Full Stack Web Developer</td>\n",
       "    </tr>\n",
       "    <tr>\n",
       "      <th>b</th>\n",
       "      <td>Muhammad Ayaz</td>\n",
       "      <td>22</td>\n",
       "      <td>3.49</td>\n",
       "      <td>Mern Stack Web Developer</td>\n",
       "    </tr>\n",
       "    <tr>\n",
       "      <th>c</th>\n",
       "      <td>Iman Khalid</td>\n",
       "      <td>20</td>\n",
       "      <td>3.94</td>\n",
       "      <td>React Native Developer</td>\n",
       "    </tr>\n",
       "    <tr>\n",
       "      <th>d</th>\n",
       "      <td>Ali Rehman</td>\n",
       "      <td>21</td>\n",
       "      <td>3.45</td>\n",
       "      <td>Full Stack Web Developer</td>\n",
       "    </tr>\n",
       "    <tr>\n",
       "      <th>e</th>\n",
       "      <td>Hifza Sethi</td>\n",
       "      <td>22</td>\n",
       "      <td>3.86</td>\n",
       "      <td>Mern Stack Web Developer</td>\n",
       "    </tr>\n",
       "  </tbody>\n",
       "</table>\n",
       "</div>"
      ],
      "text/plain": [
       "           Names  Age  CGPA (Cummulative Grades)                    Skills\n",
       "a    Zohaib khan   20                       3.58  Full Stack Web Developer\n",
       "b  Muhammad Ayaz   22                       3.49  Mern Stack Web Developer\n",
       "c    Iman Khalid   20                       3.94    React Native Developer\n",
       "d     Ali Rehman   21                       3.45  Full Stack Web Developer\n",
       "e    Hifza Sethi   22                       3.86  Mern Stack Web Developer"
      ]
     },
     "execution_count": 39,
     "metadata": {},
     "output_type": "execute_result"
    }
   ],
   "source": [
    "students_detail_dataframe"
   ]
  },
  {
   "cell_type": "code",
   "execution_count": 40,
   "id": "443897ca-d406-4f8d-8c06-0a7d3bbe5496",
   "metadata": {},
   "outputs": [
    {
     "data": {
      "text/html": [
       "<div>\n",
       "<style scoped>\n",
       "    .dataframe tbody tr th:only-of-type {\n",
       "        vertical-align: middle;\n",
       "    }\n",
       "\n",
       "    .dataframe tbody tr th {\n",
       "        vertical-align: top;\n",
       "    }\n",
       "\n",
       "    .dataframe thead th {\n",
       "        text-align: right;\n",
       "    }\n",
       "</style>\n",
       "<table border=\"1\" class=\"dataframe\">\n",
       "  <thead>\n",
       "    <tr style=\"text-align: right;\">\n",
       "      <th></th>\n",
       "      <th>Names</th>\n",
       "      <th>Age</th>\n",
       "      <th>CGPA (Cummulative Grades)</th>\n",
       "      <th>Skills</th>\n",
       "    </tr>\n",
       "  </thead>\n",
       "  <tbody>\n",
       "    <tr>\n",
       "      <th>a</th>\n",
       "      <td>Zohaib khan</td>\n",
       "      <td>20</td>\n",
       "      <td>3.58</td>\n",
       "      <td>Full Stack Web Developer</td>\n",
       "    </tr>\n",
       "    <tr>\n",
       "      <th>b</th>\n",
       "      <td>Muhammad Ayaz</td>\n",
       "      <td>22</td>\n",
       "      <td>3.49</td>\n",
       "      <td>Mern Stack Web Developer</td>\n",
       "    </tr>\n",
       "    <tr>\n",
       "      <th>c</th>\n",
       "      <td>Iman Khalid</td>\n",
       "      <td>20</td>\n",
       "      <td>3.94</td>\n",
       "      <td>React Native Developer</td>\n",
       "    </tr>\n",
       "    <tr>\n",
       "      <th>d</th>\n",
       "      <td>Ali Rehman</td>\n",
       "      <td>21</td>\n",
       "      <td>3.45</td>\n",
       "      <td>Full Stack Web Developer</td>\n",
       "    </tr>\n",
       "  </tbody>\n",
       "</table>\n",
       "</div>"
      ],
      "text/plain": [
       "           Names  Age  CGPA (Cummulative Grades)                    Skills\n",
       "a    Zohaib khan   20                       3.58  Full Stack Web Developer\n",
       "b  Muhammad Ayaz   22                       3.49  Mern Stack Web Developer\n",
       "c    Iman Khalid   20                       3.94    React Native Developer\n",
       "d     Ali Rehman   21                       3.45  Full Stack Web Developer"
      ]
     },
     "execution_count": 40,
     "metadata": {},
     "output_type": "execute_result"
    }
   ],
   "source": [
    "students_detail_dataframe.iloc[0:4,0:]"
   ]
  },
  {
   "cell_type": "code",
   "execution_count": 46,
   "id": "1c81a8cd-9168-4bd0-afb8-6a03307f10e0",
   "metadata": {},
   "outputs": [
    {
     "name": "stdout",
     "output_type": "stream",
     "text": [
      "Ali Rehman Full Stack Web Developer\n"
     ]
    }
   ],
   "source": [
    "print(students_detail_dataframe.loc['d','Names'],students_detail_dataframe.loc['d','Skills'])"
   ]
  },
  {
   "cell_type": "markdown",
   "id": "c88f1b46-c253-4ca5-8502-ba1b0527a4ba",
   "metadata": {},
   "source": [
    "<h2><b>Wrriting CSV and JSON Files</b></h2>"
   ]
  },
  {
   "cell_type": "code",
   "execution_count": 49,
   "id": "0b0be099-0c92-415e-aa20-78e6b0a8350c",
   "metadata": {},
   "outputs": [],
   "source": [
    "students_detail_dataframe.to_csv(\"Data-Files/Class-students.csv\",index = False)"
   ]
  },
  {
   "cell_type": "code",
   "execution_count": 50,
   "id": "d97e0a60-85fb-4584-839f-e0dd8a98c1aa",
   "metadata": {},
   "outputs": [],
   "source": [
    "students_detail_dataframe.to_json(\"Data-Files/Class-students.json\",index = False)"
   ]
  }
 ],
 "metadata": {
  "kernelspec": {
   "display_name": "Python 3 (ipykernel)",
   "language": "python",
   "name": "python3"
  },
  "language_info": {
   "codemirror_mode": {
    "name": "ipython",
    "version": 3
   },
   "file_extension": ".py",
   "mimetype": "text/x-python",
   "name": "python",
   "nbconvert_exporter": "python",
   "pygments_lexer": "ipython3",
   "version": "3.12.4"
  }
 },
 "nbformat": 4,
 "nbformat_minor": 5
}
